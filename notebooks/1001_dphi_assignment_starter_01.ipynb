{
  "nbformat": 4,
  "nbformat_minor": 0,
  "metadata": {
    "colab": {
      "name": "1001-dphi-assignment-starter-01.ipynb",
      "provenance": [],
      "authorship_tag": "ABX9TyMzsRJFMX4R31bl5UUSumLb",
      "include_colab_link": true
    },
    "kernelspec": {
      "name": "python3",
      "display_name": "Python 3"
    }
  },
  "cells": [
    {
      "cell_type": "markdown",
      "metadata": {
        "id": "view-in-github",
        "colab_type": "text"
      },
      "source": [
        "<a href=\"https://colab.research.google.com/github/Shankar-Hadimani/1000-dphi/blob/master/notebooks/1001_dphi_assignment_starter_01.ipynb\" target=\"_parent\"><img src=\"https://colab.research.google.com/assets/colab-badge.svg\" alt=\"Open In Colab\"/></a>"
      ]
    },
    {
      "cell_type": "code",
      "metadata": {
        "id": "_9CXjnTHudK2"
      },
      "source": [
        "import pandas as pd\r\n",
        "import numpy as np\r\n"
      ],
      "execution_count": null,
      "outputs": []
    },
    {
      "cell_type": "code",
      "metadata": {
        "id": "XeW_Og85uNiB"
      },
      "source": [
        "# This will take some time to execute. Have some patience.\r\n",
        "\r\n",
        "url = 'https://drive.google.com/file/d/1QcKzIJlO6WRUH4IkrKAvDmBVEipXkeQb/view?usp=sharing'\r\n",
        "\r\n",
        "path = 'https://drive.google.com/uc?export=download&id='+url.split('/')[-2]\r\n",
        "\r\n",
        "data = pd.read_csv(path)\r\n"
      ],
      "execution_count": null,
      "outputs": []
    },
    {
      "cell_type": "code",
      "metadata": {
        "colab": {
          "base_uri": "https://localhost:8080/"
        },
        "id": "WAOcC8ZYuW-M",
        "outputId": "0cf5606e-e04e-4393-da7a-13bf094da6f6"
      },
      "source": [
        "data.info()"
      ],
      "execution_count": null,
      "outputs": [
        {
          "output_type": "stream",
          "text": [
            "<class 'pandas.core.frame.DataFrame'>\n",
            "RangeIndex: 1243241 entries, 0 to 1243240\n",
            "Data columns (total 7 columns):\n",
            " #   Column                 Non-Null Count    Dtype  \n",
            "---  ------                 --------------    -----  \n",
            " 0   VendorID               1227632 non-null  float64\n",
            " 1   tpep_pickup_datetime   1243241 non-null  object \n",
            " 2   tpep_dropoff_datetime  1243241 non-null  object \n",
            " 3   passenger_count        1227632 non-null  float64\n",
            " 4   PULocationID           1243241 non-null  int64  \n",
            " 5   DOLocationID           1243241 non-null  int64  \n",
            " 6   fare_amount            1243241 non-null  float64\n",
            "dtypes: float64(3), int64(2), object(2)\n",
            "memory usage: 66.4+ MB\n"
          ],
          "name": "stdout"
        }
      ]
    },
    {
      "cell_type": "code",
      "metadata": {
        "colab": {
          "base_uri": "https://localhost:8080/"
        },
        "id": "58DlGzY-ulsg",
        "outputId": "5d970f5c-29e5-437c-cd4b-d95c3062f5c2"
      },
      "source": [
        "data.isnull().sum()"
      ],
      "execution_count": null,
      "outputs": [
        {
          "output_type": "execute_result",
          "data": {
            "text/plain": [
              "VendorID                 15609\n",
              "tpep_pickup_datetime         0\n",
              "tpep_dropoff_datetime        0\n",
              "passenger_count          15609\n",
              "PULocationID                 0\n",
              "DOLocationID                 0\n",
              "fare_amount                  0\n",
              "dtype: int64"
            ]
          },
          "metadata": {
            "tags": []
          },
          "execution_count": 6
        }
      ]
    },
    {
      "cell_type": "code",
      "metadata": {
        "colab": {
          "base_uri": "https://localhost:8080/",
          "height": 297
        },
        "id": "1Woj7OxCvtpT",
        "outputId": "73699a2c-2a24-442f-d388-b600671846c2"
      },
      "source": [
        "data.describe()"
      ],
      "execution_count": null,
      "outputs": [
        {
          "output_type": "execute_result",
          "data": {
            "text/html": [
              "<div>\n",
              "<style scoped>\n",
              "    .dataframe tbody tr th:only-of-type {\n",
              "        vertical-align: middle;\n",
              "    }\n",
              "\n",
              "    .dataframe tbody tr th {\n",
              "        vertical-align: top;\n",
              "    }\n",
              "\n",
              "    .dataframe thead th {\n",
              "        text-align: right;\n",
              "    }\n",
              "</style>\n",
              "<table border=\"1\" class=\"dataframe\">\n",
              "  <thead>\n",
              "    <tr style=\"text-align: right;\">\n",
              "      <th></th>\n",
              "      <th>VendorID</th>\n",
              "      <th>passenger_count</th>\n",
              "      <th>PULocationID</th>\n",
              "      <th>DOLocationID</th>\n",
              "      <th>fare_amount</th>\n",
              "    </tr>\n",
              "  </thead>\n",
              "  <tbody>\n",
              "    <tr>\n",
              "      <th>count</th>\n",
              "      <td>1.227632e+06</td>\n",
              "      <td>1.227632e+06</td>\n",
              "      <td>1.243241e+06</td>\n",
              "      <td>1.243241e+06</td>\n",
              "      <td>1.243241e+06</td>\n",
              "    </tr>\n",
              "    <tr>\n",
              "      <th>mean</th>\n",
              "      <td>1.676771e+00</td>\n",
              "      <td>1.568692e+00</td>\n",
              "      <td>1.627453e+02</td>\n",
              "      <td>1.607467e+02</td>\n",
              "      <td>1.302977e+01</td>\n",
              "    </tr>\n",
              "    <tr>\n",
              "      <th>std</th>\n",
              "      <td>4.677094e-01</td>\n",
              "      <td>1.181809e+00</td>\n",
              "      <td>6.610786e+01</td>\n",
              "      <td>7.098176e+01</td>\n",
              "      <td>1.293962e+01</td>\n",
              "    </tr>\n",
              "    <tr>\n",
              "      <th>min</th>\n",
              "      <td>1.000000e+00</td>\n",
              "      <td>0.000000e+00</td>\n",
              "      <td>1.000000e+00</td>\n",
              "      <td>1.000000e+00</td>\n",
              "      <td>-1.238000e+03</td>\n",
              "    </tr>\n",
              "    <tr>\n",
              "      <th>25%</th>\n",
              "      <td>1.000000e+00</td>\n",
              "      <td>1.000000e+00</td>\n",
              "      <td>1.250000e+02</td>\n",
              "      <td>1.070000e+02</td>\n",
              "      <td>6.000000e+00</td>\n",
              "    </tr>\n",
              "    <tr>\n",
              "      <th>50%</th>\n",
              "      <td>2.000000e+00</td>\n",
              "      <td>1.000000e+00</td>\n",
              "      <td>1.610000e+02</td>\n",
              "      <td>1.620000e+02</td>\n",
              "      <td>9.000000e+00</td>\n",
              "    </tr>\n",
              "    <tr>\n",
              "      <th>75%</th>\n",
              "      <td>2.000000e+00</td>\n",
              "      <td>2.000000e+00</td>\n",
              "      <td>2.330000e+02</td>\n",
              "      <td>2.330000e+02</td>\n",
              "      <td>1.400000e+01</td>\n",
              "    </tr>\n",
              "    <tr>\n",
              "      <th>max</th>\n",
              "      <td>2.000000e+00</td>\n",
              "      <td>9.000000e+00</td>\n",
              "      <td>2.650000e+02</td>\n",
              "      <td>2.650000e+02</td>\n",
              "      <td>1.238000e+03</td>\n",
              "    </tr>\n",
              "  </tbody>\n",
              "</table>\n",
              "</div>"
            ],
            "text/plain": [
              "           VendorID  passenger_count  PULocationID  DOLocationID   fare_amount\n",
              "count  1.227632e+06     1.227632e+06  1.243241e+06  1.243241e+06  1.243241e+06\n",
              "mean   1.676771e+00     1.568692e+00  1.627453e+02  1.607467e+02  1.302977e+01\n",
              "std    4.677094e-01     1.181809e+00  6.610786e+01  7.098176e+01  1.293962e+01\n",
              "min    1.000000e+00     0.000000e+00  1.000000e+00  1.000000e+00 -1.238000e+03\n",
              "25%    1.000000e+00     1.000000e+00  1.250000e+02  1.070000e+02  6.000000e+00\n",
              "50%    2.000000e+00     1.000000e+00  1.610000e+02  1.620000e+02  9.000000e+00\n",
              "75%    2.000000e+00     2.000000e+00  2.330000e+02  2.330000e+02  1.400000e+01\n",
              "max    2.000000e+00     9.000000e+00  2.650000e+02  2.650000e+02  1.238000e+03"
            ]
          },
          "metadata": {
            "tags": []
          },
          "execution_count": 8
        }
      ]
    },
    {
      "cell_type": "code",
      "metadata": {
        "colab": {
          "base_uri": "https://localhost:8080/"
        },
        "id": "HF5zF_TXv6I5",
        "outputId": "76e55db0-7677-43a8-9f9e-9c34aa122992"
      },
      "source": [
        "data['passenger_count'].max()"
      ],
      "execution_count": null,
      "outputs": [
        {
          "output_type": "execute_result",
          "data": {
            "text/plain": [
              "9.0"
            ]
          },
          "metadata": {
            "tags": []
          },
          "execution_count": 9
        }
      ]
    },
    {
      "cell_type": "code",
      "metadata": {
        "colab": {
          "base_uri": "https://localhost:8080/"
        },
        "id": "GiLKBsSzwFXO",
        "outputId": "832affb3-3e97-4692-9b58-955425dcc06b"
      },
      "source": [
        "data['fare_amount'].max()"
      ],
      "execution_count": null,
      "outputs": [
        {
          "output_type": "execute_result",
          "data": {
            "text/plain": [
              "1238.0"
            ]
          },
          "metadata": {
            "tags": []
          },
          "execution_count": 10
        }
      ]
    },
    {
      "cell_type": "code",
      "metadata": {
        "colab": {
          "base_uri": "https://localhost:8080/"
        },
        "id": "N7P3mjUPwLBY",
        "outputId": "f790d1af-13f9-44a2-eb25-981964083840"
      },
      "source": [
        "data['fare_amount'].mean()"
      ],
      "execution_count": null,
      "outputs": [
        {
          "output_type": "execute_result",
          "data": {
            "text/plain": [
              "13.02977364806841"
            ]
          },
          "metadata": {
            "tags": []
          },
          "execution_count": 11
        }
      ]
    },
    {
      "cell_type": "code",
      "metadata": {
        "colab": {
          "base_uri": "https://localhost:8080/",
          "height": 282
        },
        "id": "kq0nFgLDzvwI",
        "outputId": "7613eca0-7a14-4544-fd86-dca96b3c59ca"
      },
      "source": [
        "data.groupby('PULocationID').value_count()"
      ],
      "execution_count": null,
      "outputs": [
        {
          "output_type": "error",
          "ename": "AttributeError",
          "evalue": "ignored",
          "traceback": [
            "\u001b[0;31m---------------------------------------------------------------------------\u001b[0m",
            "\u001b[0;31mAttributeError\u001b[0m                            Traceback (most recent call last)",
            "\u001b[0;32m<ipython-input-24-b4e2caa9a42e>\u001b[0m in \u001b[0;36m<module>\u001b[0;34m()\u001b[0m\n\u001b[0;32m----> 1\u001b[0;31m \u001b[0mdata\u001b[0m\u001b[0;34m.\u001b[0m\u001b[0mgroupby\u001b[0m\u001b[0;34m(\u001b[0m\u001b[0;34m'PULocationID'\u001b[0m\u001b[0;34m)\u001b[0m\u001b[0;34m.\u001b[0m\u001b[0mvalue_count\u001b[0m\u001b[0;34m(\u001b[0m\u001b[0;34m)\u001b[0m\u001b[0;34m\u001b[0m\u001b[0;34m\u001b[0m\u001b[0m\n\u001b[0m",
            "\u001b[0;32m/usr/local/lib/python3.6/dist-packages/pandas/core/groupby/groupby.py\u001b[0m in \u001b[0;36m__getattr__\u001b[0;34m(self, attr)\u001b[0m\n\u001b[1;32m    702\u001b[0m \u001b[0;34m\u001b[0m\u001b[0m\n\u001b[1;32m    703\u001b[0m         raise AttributeError(\n\u001b[0;32m--> 704\u001b[0;31m             \u001b[0;34mf\"'{type(self).__name__}' object has no attribute '{attr}'\"\u001b[0m\u001b[0;34m\u001b[0m\u001b[0;34m\u001b[0m\u001b[0m\n\u001b[0m\u001b[1;32m    705\u001b[0m         )\n\u001b[1;32m    706\u001b[0m \u001b[0;34m\u001b[0m\u001b[0m\n",
            "\u001b[0;31mAttributeError\u001b[0m: 'DataFrameGroupBy' object has no attribute 'value_count'"
          ]
        }
      ]
    },
    {
      "cell_type": "code",
      "metadata": {
        "colab": {
          "base_uri": "https://localhost:8080/"
        },
        "id": "tgAvD0eXwQ61",
        "outputId": "9ae74de8-59b2-4984-9354-913c33ded62d"
      },
      "source": [
        "data.PULocationID.value_counts().count()"
      ],
      "execution_count": null,
      "outputs": [
        {
          "output_type": "execute_result",
          "data": {
            "text/plain": [
              "255"
            ]
          },
          "metadata": {
            "tags": []
          },
          "execution_count": 28
        }
      ]
    },
    {
      "cell_type": "code",
      "metadata": {
        "colab": {
          "base_uri": "https://localhost:8080/"
        },
        "id": "1b467HdnyXxr",
        "outputId": "71afec9b-c280-473c-8365-12dea261110f"
      },
      "source": [
        "data.nunique()"
      ],
      "execution_count": null,
      "outputs": [
        {
          "output_type": "execute_result",
          "data": {
            "text/plain": [
              "VendorID                      2\n",
              "tpep_pickup_datetime     465021\n",
              "tpep_dropoff_datetime    466414\n",
              "passenger_count              10\n",
              "PULocationID                255\n",
              "DOLocationID                261\n",
              "fare_amount                3135\n",
              "dtype: int64"
            ]
          },
          "metadata": {
            "tags": []
          },
          "execution_count": 30
        }
      ]
    },
    {
      "cell_type": "code",
      "metadata": {
        "colab": {
          "base_uri": "https://localhost:8080/",
          "height": 450
        },
        "id": "8acUiyTr06kr",
        "outputId": "aabb755c-18f1-40c3-93db-adc548ff4803"
      },
      "source": [
        "data.groupby('PULocationID').max()"
      ],
      "execution_count": null,
      "outputs": [
        {
          "output_type": "execute_result",
          "data": {
            "text/html": [
              "<div>\n",
              "<style scoped>\n",
              "    .dataframe tbody tr th:only-of-type {\n",
              "        vertical-align: middle;\n",
              "    }\n",
              "\n",
              "    .dataframe tbody tr th {\n",
              "        vertical-align: top;\n",
              "    }\n",
              "\n",
              "    .dataframe thead th {\n",
              "        text-align: right;\n",
              "    }\n",
              "</style>\n",
              "<table border=\"1\" class=\"dataframe\">\n",
              "  <thead>\n",
              "    <tr style=\"text-align: right;\">\n",
              "      <th></th>\n",
              "      <th>VendorID</th>\n",
              "      <th>tpep_pickup_datetime</th>\n",
              "      <th>tpep_dropoff_datetime</th>\n",
              "      <th>passenger_count</th>\n",
              "      <th>DOLocationID</th>\n",
              "      <th>fare_amount</th>\n",
              "    </tr>\n",
              "    <tr>\n",
              "      <th>PULocationID</th>\n",
              "      <th></th>\n",
              "      <th></th>\n",
              "      <th></th>\n",
              "      <th></th>\n",
              "      <th></th>\n",
              "      <th></th>\n",
              "    </tr>\n",
              "  </thead>\n",
              "  <tbody>\n",
              "    <tr>\n",
              "      <th>1</th>\n",
              "      <td>2.0</td>\n",
              "      <td>2020-01-07 23:11:05</td>\n",
              "      <td>2020-01-07 23:11:44</td>\n",
              "      <td>9.0</td>\n",
              "      <td>265</td>\n",
              "      <td>250.00</td>\n",
              "    </tr>\n",
              "    <tr>\n",
              "      <th>2</th>\n",
              "      <td>1.0</td>\n",
              "      <td>2020-01-06 17:32:56</td>\n",
              "      <td>2020-01-06 18:00:02</td>\n",
              "      <td>1.0</td>\n",
              "      <td>95</td>\n",
              "      <td>27.00</td>\n",
              "    </tr>\n",
              "    <tr>\n",
              "      <th>3</th>\n",
              "      <td>2.0</td>\n",
              "      <td>2020-01-07 21:44:00</td>\n",
              "      <td>2020-01-07 22:04:00</td>\n",
              "      <td>2.0</td>\n",
              "      <td>260</td>\n",
              "      <td>71.33</td>\n",
              "    </tr>\n",
              "    <tr>\n",
              "      <th>4</th>\n",
              "      <td>2.0</td>\n",
              "      <td>2020-01-07 23:54:05</td>\n",
              "      <td>2020-01-08 01:06:02</td>\n",
              "      <td>6.0</td>\n",
              "      <td>265</td>\n",
              "      <td>85.00</td>\n",
              "    </tr>\n",
              "    <tr>\n",
              "      <th>5</th>\n",
              "      <td>2.0</td>\n",
              "      <td>2020-01-07 19:57:23</td>\n",
              "      <td>2020-01-07 20:51:28</td>\n",
              "      <td>1.0</td>\n",
              "      <td>263</td>\n",
              "      <td>91.00</td>\n",
              "    </tr>\n",
              "    <tr>\n",
              "      <th>...</th>\n",
              "      <td>...</td>\n",
              "      <td>...</td>\n",
              "      <td>...</td>\n",
              "      <td>...</td>\n",
              "      <td>...</td>\n",
              "      <td>...</td>\n",
              "    </tr>\n",
              "    <tr>\n",
              "      <th>261</th>\n",
              "      <td>2.0</td>\n",
              "      <td>2020-01-07 23:57:59</td>\n",
              "      <td>2020-01-08 16:33:49</td>\n",
              "      <td>6.0</td>\n",
              "      <td>265</td>\n",
              "      <td>154.00</td>\n",
              "    </tr>\n",
              "    <tr>\n",
              "      <th>262</th>\n",
              "      <td>2.0</td>\n",
              "      <td>2020-01-07 23:56:02</td>\n",
              "      <td>2020-01-08 18:09:44</td>\n",
              "      <td>6.0</td>\n",
              "      <td>265</td>\n",
              "      <td>300.00</td>\n",
              "    </tr>\n",
              "    <tr>\n",
              "      <th>263</th>\n",
              "      <td>2.0</td>\n",
              "      <td>2020-01-07 23:59:15</td>\n",
              "      <td>2020-01-08 21:22:52</td>\n",
              "      <td>6.0</td>\n",
              "      <td>265</td>\n",
              "      <td>94.50</td>\n",
              "    </tr>\n",
              "    <tr>\n",
              "      <th>264</th>\n",
              "      <td>2.0</td>\n",
              "      <td>2020-01-07 23:56:17</td>\n",
              "      <td>2020-01-09 13:07:47</td>\n",
              "      <td>9.0</td>\n",
              "      <td>265</td>\n",
              "      <td>375.00</td>\n",
              "    </tr>\n",
              "    <tr>\n",
              "      <th>265</th>\n",
              "      <td>2.0</td>\n",
              "      <td>2020-01-07 23:41:20</td>\n",
              "      <td>2020-01-08 17:43:57</td>\n",
              "      <td>8.0</td>\n",
              "      <td>265</td>\n",
              "      <td>499.00</td>\n",
              "    </tr>\n",
              "  </tbody>\n",
              "</table>\n",
              "<p>255 rows × 6 columns</p>\n",
              "</div>"
            ],
            "text/plain": [
              "              VendorID tpep_pickup_datetime  ... DOLocationID  fare_amount\n",
              "PULocationID                                 ...                          \n",
              "1                  2.0  2020-01-07 23:11:05  ...          265       250.00\n",
              "2                  1.0  2020-01-06 17:32:56  ...           95        27.00\n",
              "3                  2.0  2020-01-07 21:44:00  ...          260        71.33\n",
              "4                  2.0  2020-01-07 23:54:05  ...          265        85.00\n",
              "5                  2.0  2020-01-07 19:57:23  ...          263        91.00\n",
              "...                ...                  ...  ...          ...          ...\n",
              "261                2.0  2020-01-07 23:57:59  ...          265       154.00\n",
              "262                2.0  2020-01-07 23:56:02  ...          265       300.00\n",
              "263                2.0  2020-01-07 23:59:15  ...          265        94.50\n",
              "264                2.0  2020-01-07 23:56:17  ...          265       375.00\n",
              "265                2.0  2020-01-07 23:41:20  ...          265       499.00\n",
              "\n",
              "[255 rows x 6 columns]"
            ]
          },
          "metadata": {
            "tags": []
          },
          "execution_count": 35
        }
      ]
    },
    {
      "cell_type": "code",
      "metadata": {
        "colab": {
          "base_uri": "https://localhost:8080/"
        },
        "id": "4Yj6cpXf1WCT",
        "outputId": "534f3201-50ce-4293-f2bf-e111cc962bd9"
      },
      "source": [
        "data['PULocationID'].value_counts()"
      ],
      "execution_count": null,
      "outputs": [
        {
          "output_type": "execute_result",
          "data": {
            "text/plain": [
              "132    53790\n",
              "237    52055\n",
              "161    49558\n",
              "236    48450\n",
              "186    44809\n",
              "       ...  \n",
              "206        1\n",
              "245        1\n",
              "111        1\n",
              "30         1\n",
              "2          1\n",
              "Name: PULocationID, Length: 255, dtype: int64"
            ]
          },
          "metadata": {
            "tags": []
          },
          "execution_count": 39
        }
      ]
    },
    {
      "cell_type": "code",
      "metadata": {
        "colab": {
          "base_uri": "https://localhost:8080/",
          "height": 80
        },
        "id": "lXP-Y22c1gdx",
        "outputId": "db94bbce-95fd-4737-d5b2-a278e557f05e"
      },
      "source": [
        "data[data['PULocationID']==111]"
      ],
      "execution_count": null,
      "outputs": [
        {
          "output_type": "execute_result",
          "data": {
            "text/html": [
              "<div>\n",
              "<style scoped>\n",
              "    .dataframe tbody tr th:only-of-type {\n",
              "        vertical-align: middle;\n",
              "    }\n",
              "\n",
              "    .dataframe tbody tr th {\n",
              "        vertical-align: top;\n",
              "    }\n",
              "\n",
              "    .dataframe thead th {\n",
              "        text-align: right;\n",
              "    }\n",
              "</style>\n",
              "<table border=\"1\" class=\"dataframe\">\n",
              "  <thead>\n",
              "    <tr style=\"text-align: right;\">\n",
              "      <th></th>\n",
              "      <th>VendorID</th>\n",
              "      <th>tpep_pickup_datetime</th>\n",
              "      <th>tpep_dropoff_datetime</th>\n",
              "      <th>passenger_count</th>\n",
              "      <th>PULocationID</th>\n",
              "      <th>DOLocationID</th>\n",
              "      <th>fare_amount</th>\n",
              "    </tr>\n",
              "  </thead>\n",
              "  <tbody>\n",
              "    <tr>\n",
              "      <th>788565</th>\n",
              "      <td>2.0</td>\n",
              "      <td>2020-01-05 15:14:07</td>\n",
              "      <td>2020-01-05 15:14:28</td>\n",
              "      <td>4.0</td>\n",
              "      <td>111</td>\n",
              "      <td>111</td>\n",
              "      <td>45.0</td>\n",
              "    </tr>\n",
              "  </tbody>\n",
              "</table>\n",
              "</div>"
            ],
            "text/plain": [
              "        VendorID tpep_pickup_datetime  ... DOLocationID  fare_amount\n",
              "788565       2.0  2020-01-05 15:14:07  ...          111         45.0\n",
              "\n",
              "[1 rows x 7 columns]"
            ]
          },
          "metadata": {
            "tags": []
          },
          "execution_count": 44
        }
      ]
    },
    {
      "cell_type": "code",
      "metadata": {
        "colab": {
          "base_uri": "https://localhost:8080/",
          "height": 49
        },
        "id": "TeQcw-qL3sLI",
        "outputId": "18f6a6fe-34a1-46c6-ce9d-b231f3bb1c3b"
      },
      "source": [
        "data[data['PULocationID']==104]"
      ],
      "execution_count": null,
      "outputs": [
        {
          "output_type": "execute_result",
          "data": {
            "text/html": [
              "<div>\n",
              "<style scoped>\n",
              "    .dataframe tbody tr th:only-of-type {\n",
              "        vertical-align: middle;\n",
              "    }\n",
              "\n",
              "    .dataframe tbody tr th {\n",
              "        vertical-align: top;\n",
              "    }\n",
              "\n",
              "    .dataframe thead th {\n",
              "        text-align: right;\n",
              "    }\n",
              "</style>\n",
              "<table border=\"1\" class=\"dataframe\">\n",
              "  <thead>\n",
              "    <tr style=\"text-align: right;\">\n",
              "      <th></th>\n",
              "      <th>VendorID</th>\n",
              "      <th>tpep_pickup_datetime</th>\n",
              "      <th>tpep_dropoff_datetime</th>\n",
              "      <th>passenger_count</th>\n",
              "      <th>PULocationID</th>\n",
              "      <th>DOLocationID</th>\n",
              "      <th>fare_amount</th>\n",
              "    </tr>\n",
              "  </thead>\n",
              "  <tbody>\n",
              "  </tbody>\n",
              "</table>\n",
              "</div>"
            ],
            "text/plain": [
              "Empty DataFrame\n",
              "Columns: [VendorID, tpep_pickup_datetime, tpep_dropoff_datetime, passenger_count, PULocationID, DOLocationID, fare_amount]\n",
              "Index: []"
            ]
          },
          "metadata": {
            "tags": []
          },
          "execution_count": 45
        }
      ]
    },
    {
      "cell_type": "code",
      "metadata": {
        "colab": {
          "base_uri": "https://localhost:8080/",
          "height": 419
        },
        "id": "tBGuNO8i35u-",
        "outputId": "0880470d-32a0-4b93-9930-f4d4ac48b3c2"
      },
      "source": [
        "data"
      ],
      "execution_count": null,
      "outputs": [
        {
          "output_type": "execute_result",
          "data": {
            "text/html": [
              "<div>\n",
              "<style scoped>\n",
              "    .dataframe tbody tr th:only-of-type {\n",
              "        vertical-align: middle;\n",
              "    }\n",
              "\n",
              "    .dataframe tbody tr th {\n",
              "        vertical-align: top;\n",
              "    }\n",
              "\n",
              "    .dataframe thead th {\n",
              "        text-align: right;\n",
              "    }\n",
              "</style>\n",
              "<table border=\"1\" class=\"dataframe\">\n",
              "  <thead>\n",
              "    <tr style=\"text-align: right;\">\n",
              "      <th></th>\n",
              "      <th>VendorID</th>\n",
              "      <th>tpep_pickup_datetime</th>\n",
              "      <th>tpep_dropoff_datetime</th>\n",
              "      <th>passenger_count</th>\n",
              "      <th>PULocationID</th>\n",
              "      <th>DOLocationID</th>\n",
              "      <th>fare_amount</th>\n",
              "    </tr>\n",
              "  </thead>\n",
              "  <tbody>\n",
              "    <tr>\n",
              "      <th>0</th>\n",
              "      <td>1.0</td>\n",
              "      <td>2020-01-01 00:28:15</td>\n",
              "      <td>2020-01-01 00:33:03</td>\n",
              "      <td>1.0</td>\n",
              "      <td>238</td>\n",
              "      <td>239</td>\n",
              "      <td>6.00</td>\n",
              "    </tr>\n",
              "    <tr>\n",
              "      <th>1</th>\n",
              "      <td>1.0</td>\n",
              "      <td>2020-01-01 00:35:39</td>\n",
              "      <td>2020-01-01 00:43:04</td>\n",
              "      <td>1.0</td>\n",
              "      <td>239</td>\n",
              "      <td>238</td>\n",
              "      <td>7.00</td>\n",
              "    </tr>\n",
              "    <tr>\n",
              "      <th>2</th>\n",
              "      <td>1.0</td>\n",
              "      <td>2020-01-01 00:47:41</td>\n",
              "      <td>2020-01-01 00:53:52</td>\n",
              "      <td>1.0</td>\n",
              "      <td>238</td>\n",
              "      <td>238</td>\n",
              "      <td>6.00</td>\n",
              "    </tr>\n",
              "    <tr>\n",
              "      <th>3</th>\n",
              "      <td>1.0</td>\n",
              "      <td>2020-01-01 00:55:23</td>\n",
              "      <td>2020-01-01 01:00:14</td>\n",
              "      <td>1.0</td>\n",
              "      <td>238</td>\n",
              "      <td>151</td>\n",
              "      <td>5.50</td>\n",
              "    </tr>\n",
              "    <tr>\n",
              "      <th>4</th>\n",
              "      <td>2.0</td>\n",
              "      <td>2020-01-01 00:01:58</td>\n",
              "      <td>2020-01-01 00:04:16</td>\n",
              "      <td>1.0</td>\n",
              "      <td>193</td>\n",
              "      <td>193</td>\n",
              "      <td>3.50</td>\n",
              "    </tr>\n",
              "    <tr>\n",
              "      <th>...</th>\n",
              "      <td>...</td>\n",
              "      <td>...</td>\n",
              "      <td>...</td>\n",
              "      <td>...</td>\n",
              "      <td>...</td>\n",
              "      <td>...</td>\n",
              "      <td>...</td>\n",
              "    </tr>\n",
              "    <tr>\n",
              "      <th>1243236</th>\n",
              "      <td>NaN</td>\n",
              "      <td>2020-01-07 09:18:00</td>\n",
              "      <td>2020-01-07 09:55:00</td>\n",
              "      <td>NaN</td>\n",
              "      <td>151</td>\n",
              "      <td>145</td>\n",
              "      <td>28.36</td>\n",
              "    </tr>\n",
              "    <tr>\n",
              "      <th>1243237</th>\n",
              "      <td>NaN</td>\n",
              "      <td>2020-01-07 09:05:00</td>\n",
              "      <td>2020-01-07 09:30:00</td>\n",
              "      <td>NaN</td>\n",
              "      <td>259</td>\n",
              "      <td>78</td>\n",
              "      <td>24.36</td>\n",
              "    </tr>\n",
              "    <tr>\n",
              "      <th>1243238</th>\n",
              "      <td>NaN</td>\n",
              "      <td>2020-01-07 09:05:00</td>\n",
              "      <td>2020-01-07 09:30:00</td>\n",
              "      <td>NaN</td>\n",
              "      <td>259</td>\n",
              "      <td>78</td>\n",
              "      <td>24.36</td>\n",
              "    </tr>\n",
              "    <tr>\n",
              "      <th>1243239</th>\n",
              "      <td>NaN</td>\n",
              "      <td>2020-01-07 09:49:00</td>\n",
              "      <td>2020-01-07 09:58:00</td>\n",
              "      <td>NaN</td>\n",
              "      <td>116</td>\n",
              "      <td>166</td>\n",
              "      <td>20.06</td>\n",
              "    </tr>\n",
              "    <tr>\n",
              "      <th>1243240</th>\n",
              "      <td>NaN</td>\n",
              "      <td>2020-01-07 09:49:00</td>\n",
              "      <td>2020-01-07 09:58:00</td>\n",
              "      <td>NaN</td>\n",
              "      <td>116</td>\n",
              "      <td>166</td>\n",
              "      <td>20.06</td>\n",
              "    </tr>\n",
              "  </tbody>\n",
              "</table>\n",
              "<p>1243241 rows × 7 columns</p>\n",
              "</div>"
            ],
            "text/plain": [
              "         VendorID tpep_pickup_datetime  ... DOLocationID  fare_amount\n",
              "0             1.0  2020-01-01 00:28:15  ...          239         6.00\n",
              "1             1.0  2020-01-01 00:35:39  ...          238         7.00\n",
              "2             1.0  2020-01-01 00:47:41  ...          238         6.00\n",
              "3             1.0  2020-01-01 00:55:23  ...          151         5.50\n",
              "4             2.0  2020-01-01 00:01:58  ...          193         3.50\n",
              "...           ...                  ...  ...          ...          ...\n",
              "1243236       NaN  2020-01-07 09:18:00  ...          145        28.36\n",
              "1243237       NaN  2020-01-07 09:05:00  ...           78        24.36\n",
              "1243238       NaN  2020-01-07 09:05:00  ...           78        24.36\n",
              "1243239       NaN  2020-01-07 09:49:00  ...          166        20.06\n",
              "1243240       NaN  2020-01-07 09:49:00  ...          166        20.06\n",
              "\n",
              "[1243241 rows x 7 columns]"
            ]
          },
          "metadata": {
            "tags": []
          },
          "execution_count": 46
        }
      ]
    },
    {
      "cell_type": "code",
      "metadata": {
        "id": "jojRqwaB4VT0"
      },
      "source": [
        "import datetime\r\n",
        "import pandas as pd"
      ],
      "execution_count": null,
      "outputs": []
    },
    {
      "cell_type": "code",
      "metadata": {
        "id": "_lH7gak44tqT"
      },
      "source": [
        "data['tpep_pickup_datetime_new'] = pd.to_datetime(data['tpep_pickup_datetime'], format = '%Y-%m-%d %H:%M:%S')\r\n",
        "data['tpep_pickup_Day_of_Week'] = data['tpep_pickup_datetime_new'].dt.day_name()"
      ],
      "execution_count": null,
      "outputs": []
    },
    {
      "cell_type": "code",
      "metadata": {
        "colab": {
          "base_uri": "https://localhost:8080/",
          "height": 439
        },
        "id": "VKNcUD8K5aTl",
        "outputId": "e9596380-d379-43ac-cd6e-6192e906d1ad"
      },
      "source": [
        "data"
      ],
      "execution_count": null,
      "outputs": [
        {
          "output_type": "execute_result",
          "data": {
            "text/html": [
              "<div>\n",
              "<style scoped>\n",
              "    .dataframe tbody tr th:only-of-type {\n",
              "        vertical-align: middle;\n",
              "    }\n",
              "\n",
              "    .dataframe tbody tr th {\n",
              "        vertical-align: top;\n",
              "    }\n",
              "\n",
              "    .dataframe thead th {\n",
              "        text-align: right;\n",
              "    }\n",
              "</style>\n",
              "<table border=\"1\" class=\"dataframe\">\n",
              "  <thead>\n",
              "    <tr style=\"text-align: right;\">\n",
              "      <th></th>\n",
              "      <th>VendorID</th>\n",
              "      <th>tpep_pickup_datetime</th>\n",
              "      <th>tpep_dropoff_datetime</th>\n",
              "      <th>passenger_count</th>\n",
              "      <th>PULocationID</th>\n",
              "      <th>DOLocationID</th>\n",
              "      <th>fare_amount</th>\n",
              "      <th>tpep_pickup_datetime_new</th>\n",
              "      <th>tpep_pickup_Day_of_Week</th>\n",
              "    </tr>\n",
              "  </thead>\n",
              "  <tbody>\n",
              "    <tr>\n",
              "      <th>0</th>\n",
              "      <td>1.0</td>\n",
              "      <td>2020-01-01 00:28:15</td>\n",
              "      <td>2020-01-01 00:33:03</td>\n",
              "      <td>1.0</td>\n",
              "      <td>238</td>\n",
              "      <td>239</td>\n",
              "      <td>6.00</td>\n",
              "      <td>2020-01-01 00:28:15</td>\n",
              "      <td>Wednesday</td>\n",
              "    </tr>\n",
              "    <tr>\n",
              "      <th>1</th>\n",
              "      <td>1.0</td>\n",
              "      <td>2020-01-01 00:35:39</td>\n",
              "      <td>2020-01-01 00:43:04</td>\n",
              "      <td>1.0</td>\n",
              "      <td>239</td>\n",
              "      <td>238</td>\n",
              "      <td>7.00</td>\n",
              "      <td>2020-01-01 00:35:39</td>\n",
              "      <td>Wednesday</td>\n",
              "    </tr>\n",
              "    <tr>\n",
              "      <th>2</th>\n",
              "      <td>1.0</td>\n",
              "      <td>2020-01-01 00:47:41</td>\n",
              "      <td>2020-01-01 00:53:52</td>\n",
              "      <td>1.0</td>\n",
              "      <td>238</td>\n",
              "      <td>238</td>\n",
              "      <td>6.00</td>\n",
              "      <td>2020-01-01 00:47:41</td>\n",
              "      <td>Wednesday</td>\n",
              "    </tr>\n",
              "    <tr>\n",
              "      <th>3</th>\n",
              "      <td>1.0</td>\n",
              "      <td>2020-01-01 00:55:23</td>\n",
              "      <td>2020-01-01 01:00:14</td>\n",
              "      <td>1.0</td>\n",
              "      <td>238</td>\n",
              "      <td>151</td>\n",
              "      <td>5.50</td>\n",
              "      <td>2020-01-01 00:55:23</td>\n",
              "      <td>Wednesday</td>\n",
              "    </tr>\n",
              "    <tr>\n",
              "      <th>4</th>\n",
              "      <td>2.0</td>\n",
              "      <td>2020-01-01 00:01:58</td>\n",
              "      <td>2020-01-01 00:04:16</td>\n",
              "      <td>1.0</td>\n",
              "      <td>193</td>\n",
              "      <td>193</td>\n",
              "      <td>3.50</td>\n",
              "      <td>2020-01-01 00:01:58</td>\n",
              "      <td>Wednesday</td>\n",
              "    </tr>\n",
              "    <tr>\n",
              "      <th>...</th>\n",
              "      <td>...</td>\n",
              "      <td>...</td>\n",
              "      <td>...</td>\n",
              "      <td>...</td>\n",
              "      <td>...</td>\n",
              "      <td>...</td>\n",
              "      <td>...</td>\n",
              "      <td>...</td>\n",
              "      <td>...</td>\n",
              "    </tr>\n",
              "    <tr>\n",
              "      <th>1243236</th>\n",
              "      <td>NaN</td>\n",
              "      <td>2020-01-07 09:18:00</td>\n",
              "      <td>2020-01-07 09:55:00</td>\n",
              "      <td>NaN</td>\n",
              "      <td>151</td>\n",
              "      <td>145</td>\n",
              "      <td>28.36</td>\n",
              "      <td>2020-01-07 09:18:00</td>\n",
              "      <td>Tuesday</td>\n",
              "    </tr>\n",
              "    <tr>\n",
              "      <th>1243237</th>\n",
              "      <td>NaN</td>\n",
              "      <td>2020-01-07 09:05:00</td>\n",
              "      <td>2020-01-07 09:30:00</td>\n",
              "      <td>NaN</td>\n",
              "      <td>259</td>\n",
              "      <td>78</td>\n",
              "      <td>24.36</td>\n",
              "      <td>2020-01-07 09:05:00</td>\n",
              "      <td>Tuesday</td>\n",
              "    </tr>\n",
              "    <tr>\n",
              "      <th>1243238</th>\n",
              "      <td>NaN</td>\n",
              "      <td>2020-01-07 09:05:00</td>\n",
              "      <td>2020-01-07 09:30:00</td>\n",
              "      <td>NaN</td>\n",
              "      <td>259</td>\n",
              "      <td>78</td>\n",
              "      <td>24.36</td>\n",
              "      <td>2020-01-07 09:05:00</td>\n",
              "      <td>Tuesday</td>\n",
              "    </tr>\n",
              "    <tr>\n",
              "      <th>1243239</th>\n",
              "      <td>NaN</td>\n",
              "      <td>2020-01-07 09:49:00</td>\n",
              "      <td>2020-01-07 09:58:00</td>\n",
              "      <td>NaN</td>\n",
              "      <td>116</td>\n",
              "      <td>166</td>\n",
              "      <td>20.06</td>\n",
              "      <td>2020-01-07 09:49:00</td>\n",
              "      <td>Tuesday</td>\n",
              "    </tr>\n",
              "    <tr>\n",
              "      <th>1243240</th>\n",
              "      <td>NaN</td>\n",
              "      <td>2020-01-07 09:49:00</td>\n",
              "      <td>2020-01-07 09:58:00</td>\n",
              "      <td>NaN</td>\n",
              "      <td>116</td>\n",
              "      <td>166</td>\n",
              "      <td>20.06</td>\n",
              "      <td>2020-01-07 09:49:00</td>\n",
              "      <td>Tuesday</td>\n",
              "    </tr>\n",
              "  </tbody>\n",
              "</table>\n",
              "<p>1243241 rows × 9 columns</p>\n",
              "</div>"
            ],
            "text/plain": [
              "         VendorID  ... tpep_pickup_Day_of_Week\n",
              "0             1.0  ...               Wednesday\n",
              "1             1.0  ...               Wednesday\n",
              "2             1.0  ...               Wednesday\n",
              "3             1.0  ...               Wednesday\n",
              "4             2.0  ...               Wednesday\n",
              "...           ...  ...                     ...\n",
              "1243236       NaN  ...                 Tuesday\n",
              "1243237       NaN  ...                 Tuesday\n",
              "1243238       NaN  ...                 Tuesday\n",
              "1243239       NaN  ...                 Tuesday\n",
              "1243240       NaN  ...                 Tuesday\n",
              "\n",
              "[1243241 rows x 9 columns]"
            ]
          },
          "metadata": {
            "tags": []
          },
          "execution_count": 69
        }
      ]
    },
    {
      "cell_type": "markdown",
      "metadata": {
        "id": "if7tRh1i97zD"
      },
      "source": [
        ""
      ]
    },
    {
      "cell_type": "code",
      "metadata": {
        "id": "zzNR7IAd5rS6"
      },
      "source": [
        "data['tpep_dropoff_datetime_new'] = pd.to_datetime(data['tpep_dropoff_datetime'], format = '%Y-%m-%d %H:%M:%S')\r\n",
        "data['tpep_dropoff_Day_of_Week'] = data['tpep_dropoff_datetime_new'].dt.day_name()"
      ],
      "execution_count": null,
      "outputs": []
    },
    {
      "cell_type": "code",
      "metadata": {
        "colab": {
          "base_uri": "https://localhost:8080/",
          "height": 439
        },
        "id": "XDST_FTo-Fjv",
        "outputId": "023a46a1-ff59-432f-eda9-30acb78ff751"
      },
      "source": [
        "data"
      ],
      "execution_count": null,
      "outputs": [
        {
          "output_type": "execute_result",
          "data": {
            "text/html": [
              "<div>\n",
              "<style scoped>\n",
              "    .dataframe tbody tr th:only-of-type {\n",
              "        vertical-align: middle;\n",
              "    }\n",
              "\n",
              "    .dataframe tbody tr th {\n",
              "        vertical-align: top;\n",
              "    }\n",
              "\n",
              "    .dataframe thead th {\n",
              "        text-align: right;\n",
              "    }\n",
              "</style>\n",
              "<table border=\"1\" class=\"dataframe\">\n",
              "  <thead>\n",
              "    <tr style=\"text-align: right;\">\n",
              "      <th></th>\n",
              "      <th>VendorID</th>\n",
              "      <th>tpep_pickup_datetime</th>\n",
              "      <th>tpep_dropoff_datetime</th>\n",
              "      <th>passenger_count</th>\n",
              "      <th>PULocationID</th>\n",
              "      <th>DOLocationID</th>\n",
              "      <th>fare_amount</th>\n",
              "      <th>tpep_pickup_datetime_new</th>\n",
              "      <th>tpep_pickup_Day_of_Week</th>\n",
              "      <th>tpep_dropoff_datetime_new</th>\n",
              "      <th>tpep_dropoff_Day_of_Week</th>\n",
              "    </tr>\n",
              "  </thead>\n",
              "  <tbody>\n",
              "    <tr>\n",
              "      <th>0</th>\n",
              "      <td>1.0</td>\n",
              "      <td>2020-01-01 00:28:15</td>\n",
              "      <td>2020-01-01 00:33:03</td>\n",
              "      <td>1.0</td>\n",
              "      <td>238</td>\n",
              "      <td>239</td>\n",
              "      <td>6.00</td>\n",
              "      <td>2020-01-01 00:28:15</td>\n",
              "      <td>Wednesday</td>\n",
              "      <td>2020-01-01 00:33:03</td>\n",
              "      <td>Wednesday</td>\n",
              "    </tr>\n",
              "    <tr>\n",
              "      <th>1</th>\n",
              "      <td>1.0</td>\n",
              "      <td>2020-01-01 00:35:39</td>\n",
              "      <td>2020-01-01 00:43:04</td>\n",
              "      <td>1.0</td>\n",
              "      <td>239</td>\n",
              "      <td>238</td>\n",
              "      <td>7.00</td>\n",
              "      <td>2020-01-01 00:35:39</td>\n",
              "      <td>Wednesday</td>\n",
              "      <td>2020-01-01 00:43:04</td>\n",
              "      <td>Wednesday</td>\n",
              "    </tr>\n",
              "    <tr>\n",
              "      <th>2</th>\n",
              "      <td>1.0</td>\n",
              "      <td>2020-01-01 00:47:41</td>\n",
              "      <td>2020-01-01 00:53:52</td>\n",
              "      <td>1.0</td>\n",
              "      <td>238</td>\n",
              "      <td>238</td>\n",
              "      <td>6.00</td>\n",
              "      <td>2020-01-01 00:47:41</td>\n",
              "      <td>Wednesday</td>\n",
              "      <td>2020-01-01 00:53:52</td>\n",
              "      <td>Wednesday</td>\n",
              "    </tr>\n",
              "    <tr>\n",
              "      <th>3</th>\n",
              "      <td>1.0</td>\n",
              "      <td>2020-01-01 00:55:23</td>\n",
              "      <td>2020-01-01 01:00:14</td>\n",
              "      <td>1.0</td>\n",
              "      <td>238</td>\n",
              "      <td>151</td>\n",
              "      <td>5.50</td>\n",
              "      <td>2020-01-01 00:55:23</td>\n",
              "      <td>Wednesday</td>\n",
              "      <td>2020-01-01 01:00:14</td>\n",
              "      <td>Wednesday</td>\n",
              "    </tr>\n",
              "    <tr>\n",
              "      <th>4</th>\n",
              "      <td>2.0</td>\n",
              "      <td>2020-01-01 00:01:58</td>\n",
              "      <td>2020-01-01 00:04:16</td>\n",
              "      <td>1.0</td>\n",
              "      <td>193</td>\n",
              "      <td>193</td>\n",
              "      <td>3.50</td>\n",
              "      <td>2020-01-01 00:01:58</td>\n",
              "      <td>Wednesday</td>\n",
              "      <td>2020-01-01 00:04:16</td>\n",
              "      <td>Wednesday</td>\n",
              "    </tr>\n",
              "    <tr>\n",
              "      <th>...</th>\n",
              "      <td>...</td>\n",
              "      <td>...</td>\n",
              "      <td>...</td>\n",
              "      <td>...</td>\n",
              "      <td>...</td>\n",
              "      <td>...</td>\n",
              "      <td>...</td>\n",
              "      <td>...</td>\n",
              "      <td>...</td>\n",
              "      <td>...</td>\n",
              "      <td>...</td>\n",
              "    </tr>\n",
              "    <tr>\n",
              "      <th>1243236</th>\n",
              "      <td>NaN</td>\n",
              "      <td>2020-01-07 09:18:00</td>\n",
              "      <td>2020-01-07 09:55:00</td>\n",
              "      <td>NaN</td>\n",
              "      <td>151</td>\n",
              "      <td>145</td>\n",
              "      <td>28.36</td>\n",
              "      <td>2020-01-07 09:18:00</td>\n",
              "      <td>Tuesday</td>\n",
              "      <td>2020-01-07 09:55:00</td>\n",
              "      <td>Tuesday</td>\n",
              "    </tr>\n",
              "    <tr>\n",
              "      <th>1243237</th>\n",
              "      <td>NaN</td>\n",
              "      <td>2020-01-07 09:05:00</td>\n",
              "      <td>2020-01-07 09:30:00</td>\n",
              "      <td>NaN</td>\n",
              "      <td>259</td>\n",
              "      <td>78</td>\n",
              "      <td>24.36</td>\n",
              "      <td>2020-01-07 09:05:00</td>\n",
              "      <td>Tuesday</td>\n",
              "      <td>2020-01-07 09:30:00</td>\n",
              "      <td>Tuesday</td>\n",
              "    </tr>\n",
              "    <tr>\n",
              "      <th>1243238</th>\n",
              "      <td>NaN</td>\n",
              "      <td>2020-01-07 09:05:00</td>\n",
              "      <td>2020-01-07 09:30:00</td>\n",
              "      <td>NaN</td>\n",
              "      <td>259</td>\n",
              "      <td>78</td>\n",
              "      <td>24.36</td>\n",
              "      <td>2020-01-07 09:05:00</td>\n",
              "      <td>Tuesday</td>\n",
              "      <td>2020-01-07 09:30:00</td>\n",
              "      <td>Tuesday</td>\n",
              "    </tr>\n",
              "    <tr>\n",
              "      <th>1243239</th>\n",
              "      <td>NaN</td>\n",
              "      <td>2020-01-07 09:49:00</td>\n",
              "      <td>2020-01-07 09:58:00</td>\n",
              "      <td>NaN</td>\n",
              "      <td>116</td>\n",
              "      <td>166</td>\n",
              "      <td>20.06</td>\n",
              "      <td>2020-01-07 09:49:00</td>\n",
              "      <td>Tuesday</td>\n",
              "      <td>2020-01-07 09:58:00</td>\n",
              "      <td>Tuesday</td>\n",
              "    </tr>\n",
              "    <tr>\n",
              "      <th>1243240</th>\n",
              "      <td>NaN</td>\n",
              "      <td>2020-01-07 09:49:00</td>\n",
              "      <td>2020-01-07 09:58:00</td>\n",
              "      <td>NaN</td>\n",
              "      <td>116</td>\n",
              "      <td>166</td>\n",
              "      <td>20.06</td>\n",
              "      <td>2020-01-07 09:49:00</td>\n",
              "      <td>Tuesday</td>\n",
              "      <td>2020-01-07 09:58:00</td>\n",
              "      <td>Tuesday</td>\n",
              "    </tr>\n",
              "  </tbody>\n",
              "</table>\n",
              "<p>1243241 rows × 11 columns</p>\n",
              "</div>"
            ],
            "text/plain": [
              "         VendorID  ... tpep_dropoff_Day_of_Week\n",
              "0             1.0  ...                Wednesday\n",
              "1             1.0  ...                Wednesday\n",
              "2             1.0  ...                Wednesday\n",
              "3             1.0  ...                Wednesday\n",
              "4             2.0  ...                Wednesday\n",
              "...           ...  ...                      ...\n",
              "1243236       NaN  ...                  Tuesday\n",
              "1243237       NaN  ...                  Tuesday\n",
              "1243238       NaN  ...                  Tuesday\n",
              "1243239       NaN  ...                  Tuesday\n",
              "1243240       NaN  ...                  Tuesday\n",
              "\n",
              "[1243241 rows x 11 columns]"
            ]
          },
          "metadata": {
            "tags": []
          },
          "execution_count": 71
        }
      ]
    },
    {
      "cell_type": "code",
      "metadata": {
        "colab": {
          "base_uri": "https://localhost:8080/"
        },
        "id": "ej4zuEg6-IST",
        "outputId": "bb1baadc-8a9d-4f9f-8db7-c45e607c8c58"
      },
      "source": [
        "data['tpep_pickup_Day_of_Week'].value_counts()"
      ],
      "execution_count": null,
      "outputs": [
        {
          "output_type": "execute_result",
          "data": {
            "text/plain": [
              "Tuesday      201520\n",
              "Friday       183477\n",
              "Saturday     182752\n",
              "Monday       179515\n",
              "Wednesday    169437\n",
              "Sunday       164399\n",
              "Thursday     162141\n",
              "Name: tpep_pickup_Day_of_Week, dtype: int64"
            ]
          },
          "metadata": {
            "tags": []
          },
          "execution_count": 74
        }
      ]
    },
    {
      "cell_type": "code",
      "metadata": {
        "colab": {
          "base_uri": "https://localhost:8080/"
        },
        "id": "qAYKAfc_-Yd8",
        "outputId": "cc4be620-4590-45c9-c0cf-f4a20e78fb2d"
      },
      "source": [
        "data['tpep_dropoff_Day_of_Week'].value_counts()"
      ],
      "execution_count": null,
      "outputs": [
        {
          "output_type": "execute_result",
          "data": {
            "text/plain": [
              "Tuesday      201286\n",
              "Friday       182810\n",
              "Saturday     182314\n",
              "Monday       179696\n",
              "Wednesday    169470\n",
              "Sunday       165612\n",
              "Thursday     162053\n",
              "Name: tpep_dropoff_Day_of_Week, dtype: int64"
            ]
          },
          "metadata": {
            "tags": []
          },
          "execution_count": 75
        }
      ]
    },
    {
      "cell_type": "code",
      "metadata": {
        "id": "VAvOjPst-koH"
      },
      "source": [
        "new_df = data.loc[(data['VendorID'] == 2.0) & (data['fare_amount'] < data['fare_amount'].mean()) & (data['passenger_count'] > 5)]"
      ],
      "execution_count": null,
      "outputs": []
    },
    {
      "cell_type": "code",
      "metadata": {
        "colab": {
          "base_uri": "https://localhost:8080/",
          "height": 439
        },
        "id": "Y3fK5K8M_LsC",
        "outputId": "fdb4bc6b-a5ee-4ac6-c0b4-1c47fd28ed97"
      },
      "source": [
        "new_df"
      ],
      "execution_count": null,
      "outputs": [
        {
          "output_type": "execute_result",
          "data": {
            "text/html": [
              "<div>\n",
              "<style scoped>\n",
              "    .dataframe tbody tr th:only-of-type {\n",
              "        vertical-align: middle;\n",
              "    }\n",
              "\n",
              "    .dataframe tbody tr th {\n",
              "        vertical-align: top;\n",
              "    }\n",
              "\n",
              "    .dataframe thead th {\n",
              "        text-align: right;\n",
              "    }\n",
              "</style>\n",
              "<table border=\"1\" class=\"dataframe\">\n",
              "  <thead>\n",
              "    <tr style=\"text-align: right;\">\n",
              "      <th></th>\n",
              "      <th>VendorID</th>\n",
              "      <th>tpep_pickup_datetime</th>\n",
              "      <th>tpep_dropoff_datetime</th>\n",
              "      <th>passenger_count</th>\n",
              "      <th>PULocationID</th>\n",
              "      <th>DOLocationID</th>\n",
              "      <th>fare_amount</th>\n",
              "      <th>tpep_pickup_datetime_new</th>\n",
              "      <th>tpep_pickup_Day_of_Week</th>\n",
              "      <th>tpep_dropoff_datetime_new</th>\n",
              "      <th>tpep_dropoff_Day_of_Week</th>\n",
              "    </tr>\n",
              "  </thead>\n",
              "  <tbody>\n",
              "    <tr>\n",
              "      <th>195</th>\n",
              "      <td>2.0</td>\n",
              "      <td>2020-01-01 00:38:43</td>\n",
              "      <td>2020-01-01 00:54:55</td>\n",
              "      <td>6.0</td>\n",
              "      <td>236</td>\n",
              "      <td>170</td>\n",
              "      <td>12.0</td>\n",
              "      <td>2020-01-01 00:38:43</td>\n",
              "      <td>Wednesday</td>\n",
              "      <td>2020-01-01 00:54:55</td>\n",
              "      <td>Wednesday</td>\n",
              "    </tr>\n",
              "    <tr>\n",
              "      <th>218</th>\n",
              "      <td>2.0</td>\n",
              "      <td>2020-01-01 00:24:07</td>\n",
              "      <td>2020-01-01 00:27:48</td>\n",
              "      <td>6.0</td>\n",
              "      <td>129</td>\n",
              "      <td>260</td>\n",
              "      <td>5.5</td>\n",
              "      <td>2020-01-01 00:24:07</td>\n",
              "      <td>Wednesday</td>\n",
              "      <td>2020-01-01 00:27:48</td>\n",
              "      <td>Wednesday</td>\n",
              "    </tr>\n",
              "    <tr>\n",
              "      <th>219</th>\n",
              "      <td>2.0</td>\n",
              "      <td>2020-01-01 00:39:43</td>\n",
              "      <td>2020-01-01 00:45:55</td>\n",
              "      <td>6.0</td>\n",
              "      <td>226</td>\n",
              "      <td>260</td>\n",
              "      <td>7.0</td>\n",
              "      <td>2020-01-01 00:39:43</td>\n",
              "      <td>Wednesday</td>\n",
              "      <td>2020-01-01 00:45:55</td>\n",
              "      <td>Wednesday</td>\n",
              "    </tr>\n",
              "    <tr>\n",
              "      <th>220</th>\n",
              "      <td>2.0</td>\n",
              "      <td>2020-01-01 00:48:29</td>\n",
              "      <td>2020-01-01 00:55:05</td>\n",
              "      <td>6.0</td>\n",
              "      <td>260</td>\n",
              "      <td>129</td>\n",
              "      <td>6.5</td>\n",
              "      <td>2020-01-01 00:48:29</td>\n",
              "      <td>Wednesday</td>\n",
              "      <td>2020-01-01 00:55:05</td>\n",
              "      <td>Wednesday</td>\n",
              "    </tr>\n",
              "    <tr>\n",
              "      <th>453</th>\n",
              "      <td>2.0</td>\n",
              "      <td>2020-01-01 00:47:13</td>\n",
              "      <td>2020-01-01 00:54:52</td>\n",
              "      <td>6.0</td>\n",
              "      <td>161</td>\n",
              "      <td>140</td>\n",
              "      <td>7.5</td>\n",
              "      <td>2020-01-01 00:47:13</td>\n",
              "      <td>Wednesday</td>\n",
              "      <td>2020-01-01 00:54:52</td>\n",
              "      <td>Wednesday</td>\n",
              "    </tr>\n",
              "    <tr>\n",
              "      <th>...</th>\n",
              "      <td>...</td>\n",
              "      <td>...</td>\n",
              "      <td>...</td>\n",
              "      <td>...</td>\n",
              "      <td>...</td>\n",
              "      <td>...</td>\n",
              "      <td>...</td>\n",
              "      <td>...</td>\n",
              "      <td>...</td>\n",
              "      <td>...</td>\n",
              "      <td>...</td>\n",
              "    </tr>\n",
              "    <tr>\n",
              "      <th>1227569</th>\n",
              "      <td>2.0</td>\n",
              "      <td>2020-01-07 20:28:35</td>\n",
              "      <td>2020-01-07 20:35:20</td>\n",
              "      <td>6.0</td>\n",
              "      <td>163</td>\n",
              "      <td>170</td>\n",
              "      <td>7.0</td>\n",
              "      <td>2020-01-07 20:28:35</td>\n",
              "      <td>Tuesday</td>\n",
              "      <td>2020-01-07 20:35:20</td>\n",
              "      <td>Tuesday</td>\n",
              "    </tr>\n",
              "    <tr>\n",
              "      <th>1227576</th>\n",
              "      <td>2.0</td>\n",
              "      <td>2020-01-07 23:57:24</td>\n",
              "      <td>2020-01-08 00:05:22</td>\n",
              "      <td>6.0</td>\n",
              "      <td>229</td>\n",
              "      <td>186</td>\n",
              "      <td>8.0</td>\n",
              "      <td>2020-01-07 23:57:24</td>\n",
              "      <td>Tuesday</td>\n",
              "      <td>2020-01-08 00:05:22</td>\n",
              "      <td>Wednesday</td>\n",
              "    </tr>\n",
              "    <tr>\n",
              "      <th>1227577</th>\n",
              "      <td>2.0</td>\n",
              "      <td>2020-01-07 23:55:28</td>\n",
              "      <td>2020-01-08 00:01:55</td>\n",
              "      <td>6.0</td>\n",
              "      <td>230</td>\n",
              "      <td>163</td>\n",
              "      <td>6.0</td>\n",
              "      <td>2020-01-07 23:55:28</td>\n",
              "      <td>Tuesday</td>\n",
              "      <td>2020-01-08 00:01:55</td>\n",
              "      <td>Wednesday</td>\n",
              "    </tr>\n",
              "    <tr>\n",
              "      <th>1227592</th>\n",
              "      <td>2.0</td>\n",
              "      <td>2020-01-07 23:58:26</td>\n",
              "      <td>2020-01-08 00:07:45</td>\n",
              "      <td>6.0</td>\n",
              "      <td>161</td>\n",
              "      <td>79</td>\n",
              "      <td>9.5</td>\n",
              "      <td>2020-01-07 23:58:26</td>\n",
              "      <td>Tuesday</td>\n",
              "      <td>2020-01-08 00:07:45</td>\n",
              "      <td>Wednesday</td>\n",
              "    </tr>\n",
              "    <tr>\n",
              "      <th>1227611</th>\n",
              "      <td>2.0</td>\n",
              "      <td>2020-01-07 23:59:13</td>\n",
              "      <td>2020-01-08 00:04:34</td>\n",
              "      <td>6.0</td>\n",
              "      <td>142</td>\n",
              "      <td>238</td>\n",
              "      <td>6.5</td>\n",
              "      <td>2020-01-07 23:59:13</td>\n",
              "      <td>Tuesday</td>\n",
              "      <td>2020-01-08 00:04:34</td>\n",
              "      <td>Wednesday</td>\n",
              "    </tr>\n",
              "  </tbody>\n",
              "</table>\n",
              "<p>19443 rows × 11 columns</p>\n",
              "</div>"
            ],
            "text/plain": [
              "         VendorID  ... tpep_dropoff_Day_of_Week\n",
              "195           2.0  ...                Wednesday\n",
              "218           2.0  ...                Wednesday\n",
              "219           2.0  ...                Wednesday\n",
              "220           2.0  ...                Wednesday\n",
              "453           2.0  ...                Wednesday\n",
              "...           ...  ...                      ...\n",
              "1227569       2.0  ...                  Tuesday\n",
              "1227576       2.0  ...                Wednesday\n",
              "1227577       2.0  ...                Wednesday\n",
              "1227592       2.0  ...                Wednesday\n",
              "1227611       2.0  ...                Wednesday\n",
              "\n",
              "[19443 rows x 11 columns]"
            ]
          },
          "metadata": {
            "tags": []
          },
          "execution_count": 83
        }
      ]
    },
    {
      "cell_type": "code",
      "metadata": {
        "colab": {
          "base_uri": "https://localhost:8080/"
        },
        "id": "srmJYGyL_S0t",
        "outputId": "7542f4a3-7467-4353-b18c-545c0d3357fb"
      },
      "source": [
        "new_df.isnull().sum()"
      ],
      "execution_count": null,
      "outputs": [
        {
          "output_type": "execute_result",
          "data": {
            "text/plain": [
              "VendorID                     0\n",
              "tpep_pickup_datetime         0\n",
              "tpep_dropoff_datetime        0\n",
              "passenger_count              0\n",
              "PULocationID                 0\n",
              "DOLocationID                 0\n",
              "fare_amount                  0\n",
              "tpep_pickup_datetime_new     0\n",
              "tpep_pickup_Day_of_Week      0\n",
              "tpep_dropoff_datetime_new    0\n",
              "tpep_dropoff_Day_of_Week     0\n",
              "dtype: int64"
            ]
          },
          "metadata": {
            "tags": []
          },
          "execution_count": 84
        }
      ]
    },
    {
      "cell_type": "code",
      "metadata": {
        "colab": {
          "base_uri": "https://localhost:8080/"
        },
        "id": "JORCfc2xED7L",
        "outputId": "76d1d8ee-717b-496a-f112-d059bb88f030"
      },
      "source": [
        "new_df.fare_amount.mean()"
      ],
      "execution_count": null,
      "outputs": [
        {
          "output_type": "execute_result",
          "data": {
            "text/plain": [
              "7.63299490819318"
            ]
          },
          "metadata": {
            "tags": []
          },
          "execution_count": 86
        }
      ]
    },
    {
      "cell_type": "code",
      "metadata": {
        "colab": {
          "base_uri": "https://localhost:8080/"
        },
        "id": "Pbt98h7QEaOK",
        "outputId": "aedd3693-8cc9-47be-e872-86e4c085439e"
      },
      "source": [
        "new_df.passenger_count.mean()"
      ],
      "execution_count": null,
      "outputs": [
        {
          "output_type": "execute_result",
          "data": {
            "text/plain": [
              "6.000257161960603"
            ]
          },
          "metadata": {
            "tags": []
          },
          "execution_count": 87
        }
      ]
    },
    {
      "cell_type": "code",
      "metadata": {
        "colab": {
          "base_uri": "https://localhost:8080/"
        },
        "id": "nBtqeJh9Eie-",
        "outputId": "ca690c52-1afd-49f2-937b-5a24cd0e89fc"
      },
      "source": [
        "new_df.tpep_pickup_Day_of_Week.value_counts()"
      ],
      "execution_count": null,
      "outputs": [
        {
          "output_type": "execute_result",
          "data": {
            "text/plain": [
              "Saturday     3090\n",
              "Tuesday      3075\n",
              "Friday       2892\n",
              "Monday       2655\n",
              "Thursday     2627\n",
              "Wednesday    2622\n",
              "Sunday       2482\n",
              "Name: tpep_pickup_Day_of_Week, dtype: int64"
            ]
          },
          "metadata": {
            "tags": []
          },
          "execution_count": 88
        }
      ]
    },
    {
      "cell_type": "code",
      "metadata": {
        "colab": {
          "base_uri": "https://localhost:8080/"
        },
        "id": "wQnDS0l0Ew8o",
        "outputId": "96ea3425-305b-412e-fb02-4cc45a280725"
      },
      "source": [
        "new_df.tpep_dropoff_Day_of_Week.value_counts()"
      ],
      "execution_count": null,
      "outputs": [
        {
          "output_type": "execute_result",
          "data": {
            "text/plain": [
              "Saturday     3072\n",
              "Tuesday      3062\n",
              "Friday       2895\n",
              "Monday       2663\n",
              "Wednesday    2628\n",
              "Thursday     2618\n",
              "Sunday       2505\n",
              "Name: tpep_dropoff_Day_of_Week, dtype: int64"
            ]
          },
          "metadata": {
            "tags": []
          },
          "execution_count": 89
        }
      ]
    },
    {
      "cell_type": "code",
      "metadata": {
        "colab": {
          "base_uri": "https://localhost:8080/"
        },
        "id": "hXPtKRflE0jA",
        "outputId": "705f4042-41b7-430b-ecc1-4b68d3984fcb"
      },
      "source": [
        "new_df.fare_amount.mean()"
      ],
      "execution_count": null,
      "outputs": [
        {
          "output_type": "execute_result",
          "data": {
            "text/plain": [
              "7.63299490819318"
            ]
          },
          "metadata": {
            "tags": []
          },
          "execution_count": 90
        }
      ]
    },
    {
      "cell_type": "code",
      "metadata": {
        "colab": {
          "base_uri": "https://localhost:8080/"
        },
        "id": "cZFU2mMSE-2y",
        "outputId": "8c314607-8f4a-4515-888f-fa40e3dc24fc"
      },
      "source": [
        "new_df.fare_amount.median()"
      ],
      "execution_count": null,
      "outputs": [
        {
          "output_type": "execute_result",
          "data": {
            "text/plain": [
              "7.5"
            ]
          },
          "metadata": {
            "tags": []
          },
          "execution_count": 91
        }
      ]
    },
    {
      "cell_type": "code",
      "metadata": {
        "id": "_pTGpt7RFAFA"
      },
      "source": [
        "df = pd.DataFrame({\r\n",
        "    'user_id': [1, 1, 1, 2, 3, 3, 3],\r\n",
        "    'preference_id': [1, 2, None, None, 2, 2, None]\r\n",
        "})"
      ],
      "execution_count": null,
      "outputs": []
    },
    {
      "cell_type": "code",
      "metadata": {
        "colab": {
          "base_uri": "https://localhost:8080/",
          "height": 266
        },
        "id": "WSAhzrseJrR4",
        "outputId": "cfee4794-d044-4d5e-d6e4-8bd7d194092b"
      },
      "source": [
        "df"
      ],
      "execution_count": null,
      "outputs": [
        {
          "output_type": "execute_result",
          "data": {
            "text/html": [
              "<div>\n",
              "<style scoped>\n",
              "    .dataframe tbody tr th:only-of-type {\n",
              "        vertical-align: middle;\n",
              "    }\n",
              "\n",
              "    .dataframe tbody tr th {\n",
              "        vertical-align: top;\n",
              "    }\n",
              "\n",
              "    .dataframe thead th {\n",
              "        text-align: right;\n",
              "    }\n",
              "</style>\n",
              "<table border=\"1\" class=\"dataframe\">\n",
              "  <thead>\n",
              "    <tr style=\"text-align: right;\">\n",
              "      <th></th>\n",
              "      <th>user_id</th>\n",
              "      <th>preference_id</th>\n",
              "    </tr>\n",
              "  </thead>\n",
              "  <tbody>\n",
              "    <tr>\n",
              "      <th>0</th>\n",
              "      <td>1</td>\n",
              "      <td>1.0</td>\n",
              "    </tr>\n",
              "    <tr>\n",
              "      <th>1</th>\n",
              "      <td>1</td>\n",
              "      <td>2.0</td>\n",
              "    </tr>\n",
              "    <tr>\n",
              "      <th>2</th>\n",
              "      <td>1</td>\n",
              "      <td>NaN</td>\n",
              "    </tr>\n",
              "    <tr>\n",
              "      <th>3</th>\n",
              "      <td>2</td>\n",
              "      <td>NaN</td>\n",
              "    </tr>\n",
              "    <tr>\n",
              "      <th>4</th>\n",
              "      <td>3</td>\n",
              "      <td>2.0</td>\n",
              "    </tr>\n",
              "    <tr>\n",
              "      <th>5</th>\n",
              "      <td>3</td>\n",
              "      <td>2.0</td>\n",
              "    </tr>\n",
              "    <tr>\n",
              "      <th>6</th>\n",
              "      <td>3</td>\n",
              "      <td>NaN</td>\n",
              "    </tr>\n",
              "  </tbody>\n",
              "</table>\n",
              "</div>"
            ],
            "text/plain": [
              "   user_id  preference_id\n",
              "0        1            1.0\n",
              "1        1            2.0\n",
              "2        1            NaN\n",
              "3        2            NaN\n",
              "4        3            2.0\n",
              "5        3            2.0\n",
              "6        3            NaN"
            ]
          },
          "metadata": {
            "tags": []
          },
          "execution_count": 99
        }
      ]
    },
    {
      "cell_type": "code",
      "metadata": {
        "colab": {
          "base_uri": "https://localhost:8080/",
          "height": 266
        },
        "id": "e8pHVLGdKses",
        "outputId": "5c52d456-e19c-4f5b-ee6f-6a679a109470"
      },
      "source": [
        "m=(df.groupby('user_id')['preference_id'].apply(lambda x: x.mode(dropna=False).iat[0])\r\n",
        ".reset_index(name='Mode'))\r\n",
        "df.merge(m,on='user_id')"
      ],
      "execution_count": null,
      "outputs": [
        {
          "output_type": "execute_result",
          "data": {
            "text/html": [
              "<div>\n",
              "<style scoped>\n",
              "    .dataframe tbody tr th:only-of-type {\n",
              "        vertical-align: middle;\n",
              "    }\n",
              "\n",
              "    .dataframe tbody tr th {\n",
              "        vertical-align: top;\n",
              "    }\n",
              "\n",
              "    .dataframe thead th {\n",
              "        text-align: right;\n",
              "    }\n",
              "</style>\n",
              "<table border=\"1\" class=\"dataframe\">\n",
              "  <thead>\n",
              "    <tr style=\"text-align: right;\">\n",
              "      <th></th>\n",
              "      <th>user_id</th>\n",
              "      <th>preference_id</th>\n",
              "      <th>Mode</th>\n",
              "    </tr>\n",
              "  </thead>\n",
              "  <tbody>\n",
              "    <tr>\n",
              "      <th>0</th>\n",
              "      <td>1</td>\n",
              "      <td>1.0</td>\n",
              "      <td>1.0</td>\n",
              "    </tr>\n",
              "    <tr>\n",
              "      <th>1</th>\n",
              "      <td>1</td>\n",
              "      <td>2.0</td>\n",
              "      <td>1.0</td>\n",
              "    </tr>\n",
              "    <tr>\n",
              "      <th>2</th>\n",
              "      <td>1</td>\n",
              "      <td>NaN</td>\n",
              "      <td>1.0</td>\n",
              "    </tr>\n",
              "    <tr>\n",
              "      <th>3</th>\n",
              "      <td>2</td>\n",
              "      <td>NaN</td>\n",
              "      <td>NaN</td>\n",
              "    </tr>\n",
              "    <tr>\n",
              "      <th>4</th>\n",
              "      <td>3</td>\n",
              "      <td>2.0</td>\n",
              "      <td>2.0</td>\n",
              "    </tr>\n",
              "    <tr>\n",
              "      <th>5</th>\n",
              "      <td>3</td>\n",
              "      <td>2.0</td>\n",
              "      <td>2.0</td>\n",
              "    </tr>\n",
              "    <tr>\n",
              "      <th>6</th>\n",
              "      <td>3</td>\n",
              "      <td>NaN</td>\n",
              "      <td>2.0</td>\n",
              "    </tr>\n",
              "  </tbody>\n",
              "</table>\n",
              "</div>"
            ],
            "text/plain": [
              "   user_id  preference_id  Mode\n",
              "0        1            1.0   1.0\n",
              "1        1            2.0   1.0\n",
              "2        1            NaN   1.0\n",
              "3        2            NaN   NaN\n",
              "4        3            2.0   2.0\n",
              "5        3            2.0   2.0\n",
              "6        3            NaN   2.0"
            ]
          },
          "metadata": {
            "tags": []
          },
          "execution_count": 100
        }
      ]
    },
    {
      "cell_type": "code",
      "metadata": {
        "id": "pHPrVg76KwOn"
      },
      "source": [
        "df = pd.DataFrame({\r\n",
        "    'user_id': [1, 1, 1, 2, 3, 3, 3],\r\n",
        "    'preference_id': [1, 2, None, None, 2, 2, None]\r\n",
        "})"
      ],
      "execution_count": null,
      "outputs": []
    },
    {
      "cell_type": "code",
      "metadata": {
        "colab": {
          "base_uri": "https://localhost:8080/",
          "height": 266
        },
        "id": "-ejKQ5aILFTc",
        "outputId": "ea414f25-2e3e-4152-ad92-772b3fb3fb15"
      },
      "source": [
        "df"
      ],
      "execution_count": null,
      "outputs": [
        {
          "output_type": "execute_result",
          "data": {
            "text/html": [
              "<div>\n",
              "<style scoped>\n",
              "    .dataframe tbody tr th:only-of-type {\n",
              "        vertical-align: middle;\n",
              "    }\n",
              "\n",
              "    .dataframe tbody tr th {\n",
              "        vertical-align: top;\n",
              "    }\n",
              "\n",
              "    .dataframe thead th {\n",
              "        text-align: right;\n",
              "    }\n",
              "</style>\n",
              "<table border=\"1\" class=\"dataframe\">\n",
              "  <thead>\n",
              "    <tr style=\"text-align: right;\">\n",
              "      <th></th>\n",
              "      <th>user_id</th>\n",
              "      <th>preference_id</th>\n",
              "    </tr>\n",
              "  </thead>\n",
              "  <tbody>\n",
              "    <tr>\n",
              "      <th>0</th>\n",
              "      <td>1</td>\n",
              "      <td>1.0</td>\n",
              "    </tr>\n",
              "    <tr>\n",
              "      <th>1</th>\n",
              "      <td>1</td>\n",
              "      <td>2.0</td>\n",
              "    </tr>\n",
              "    <tr>\n",
              "      <th>2</th>\n",
              "      <td>1</td>\n",
              "      <td>NaN</td>\n",
              "    </tr>\n",
              "    <tr>\n",
              "      <th>3</th>\n",
              "      <td>2</td>\n",
              "      <td>NaN</td>\n",
              "    </tr>\n",
              "    <tr>\n",
              "      <th>4</th>\n",
              "      <td>3</td>\n",
              "      <td>2.0</td>\n",
              "    </tr>\n",
              "    <tr>\n",
              "      <th>5</th>\n",
              "      <td>3</td>\n",
              "      <td>2.0</td>\n",
              "    </tr>\n",
              "    <tr>\n",
              "      <th>6</th>\n",
              "      <td>3</td>\n",
              "      <td>NaN</td>\n",
              "    </tr>\n",
              "  </tbody>\n",
              "</table>\n",
              "</div>"
            ],
            "text/plain": [
              "   user_id  preference_id\n",
              "0        1            1.0\n",
              "1        1            2.0\n",
              "2        1            NaN\n",
              "3        2            NaN\n",
              "4        3            2.0\n",
              "5        3            2.0\n",
              "6        3            NaN"
            ]
          },
          "metadata": {
            "tags": []
          },
          "execution_count": 102
        }
      ]
    },
    {
      "cell_type": "code",
      "metadata": {
        "colab": {
          "base_uri": "https://localhost:8080/",
          "height": 340
        },
        "id": "e-X94bShLC5c",
        "outputId": "6e880713-dff5-4c80-fb0e-7e93eb6092a7"
      },
      "source": [
        "s=data.groupby('user_id')['preference_id'].transform(lambda x: x.mode().iat[0])\r\n",
        "data_new.preference_id=data.preference_id.fillna(s)\r\n",
        "print(data_new)"
      ],
      "execution_count": null,
      "outputs": [
        {
          "output_type": "error",
          "ename": "IndexError",
          "evalue": "ignored",
          "traceback": [
            "\u001b[0;31m---------------------------------------------------------------------------\u001b[0m",
            "\u001b[0;31mIndexError\u001b[0m                                Traceback (most recent call last)",
            "\u001b[0;32m<ipython-input-104-f552a83d0421>\u001b[0m in \u001b[0;36m<module>\u001b[0;34m()\u001b[0m\n\u001b[0;32m----> 1\u001b[0;31m \u001b[0ms\u001b[0m\u001b[0;34m=\u001b[0m\u001b[0mdf\u001b[0m\u001b[0;34m.\u001b[0m\u001b[0mgroupby\u001b[0m\u001b[0;34m(\u001b[0m\u001b[0;34m'user_id'\u001b[0m\u001b[0;34m)\u001b[0m\u001b[0;34m[\u001b[0m\u001b[0;34m'preference_id'\u001b[0m\u001b[0;34m]\u001b[0m\u001b[0;34m.\u001b[0m\u001b[0mtransform\u001b[0m\u001b[0;34m(\u001b[0m\u001b[0;32mlambda\u001b[0m \u001b[0mx\u001b[0m\u001b[0;34m:\u001b[0m \u001b[0mx\u001b[0m\u001b[0;34m.\u001b[0m\u001b[0mmode\u001b[0m\u001b[0;34m(\u001b[0m\u001b[0;34m)\u001b[0m\u001b[0;34m.\u001b[0m\u001b[0miat\u001b[0m\u001b[0;34m[\u001b[0m\u001b[0;36m0\u001b[0m\u001b[0;34m]\u001b[0m\u001b[0;34m)\u001b[0m\u001b[0;34m\u001b[0m\u001b[0;34m\u001b[0m\u001b[0m\n\u001b[0m\u001b[1;32m      2\u001b[0m \u001b[0mdf\u001b[0m\u001b[0;34m.\u001b[0m\u001b[0mpreference_id\u001b[0m\u001b[0;34m=\u001b[0m\u001b[0mdf\u001b[0m\u001b[0;34m.\u001b[0m\u001b[0mpreference_id\u001b[0m\u001b[0;34m.\u001b[0m\u001b[0mfillna\u001b[0m\u001b[0;34m(\u001b[0m\u001b[0ms\u001b[0m\u001b[0;34m)\u001b[0m\u001b[0;34m\u001b[0m\u001b[0;34m\u001b[0m\u001b[0m\n\u001b[1;32m      3\u001b[0m \u001b[0mprint\u001b[0m\u001b[0;34m(\u001b[0m\u001b[0mdf\u001b[0m\u001b[0;34m)\u001b[0m\u001b[0;34m\u001b[0m\u001b[0;34m\u001b[0m\u001b[0m\n",
            "\u001b[0;32m/usr/local/lib/python3.6/dist-packages/pandas/core/groupby/generic.py\u001b[0m in \u001b[0;36mtransform\u001b[0;34m(self, func, engine, engine_kwargs, *args, **kwargs)\u001b[0m\n\u001b[1;32m    492\u001b[0m         \u001b[0;32mif\u001b[0m \u001b[0;32mnot\u001b[0m \u001b[0misinstance\u001b[0m\u001b[0;34m(\u001b[0m\u001b[0mfunc\u001b[0m\u001b[0;34m,\u001b[0m \u001b[0mstr\u001b[0m\u001b[0;34m)\u001b[0m\u001b[0;34m:\u001b[0m\u001b[0;34m\u001b[0m\u001b[0;34m\u001b[0m\u001b[0m\n\u001b[1;32m    493\u001b[0m             return self._transform_general(\n\u001b[0;32m--> 494\u001b[0;31m                 \u001b[0mfunc\u001b[0m\u001b[0;34m,\u001b[0m \u001b[0;34m*\u001b[0m\u001b[0margs\u001b[0m\u001b[0;34m,\u001b[0m \u001b[0mengine\u001b[0m\u001b[0;34m=\u001b[0m\u001b[0mengine\u001b[0m\u001b[0;34m,\u001b[0m \u001b[0mengine_kwargs\u001b[0m\u001b[0;34m=\u001b[0m\u001b[0mengine_kwargs\u001b[0m\u001b[0;34m,\u001b[0m \u001b[0;34m**\u001b[0m\u001b[0mkwargs\u001b[0m\u001b[0;34m\u001b[0m\u001b[0;34m\u001b[0m\u001b[0m\n\u001b[0m\u001b[1;32m    495\u001b[0m             )\n\u001b[1;32m    496\u001b[0m \u001b[0;34m\u001b[0m\u001b[0m\n",
            "\u001b[0;32m/usr/local/lib/python3.6/dist-packages/pandas/core/groupby/generic.py\u001b[0m in \u001b[0;36m_transform_general\u001b[0;34m(self, func, engine, engine_kwargs, *args, **kwargs)\u001b[0m\n\u001b[1;32m    535\u001b[0m                     \u001b[0mNUMBA_FUNC_CACHE\u001b[0m\u001b[0;34m[\u001b[0m\u001b[0mcache_key\u001b[0m\u001b[0;34m]\u001b[0m \u001b[0;34m=\u001b[0m \u001b[0mnumba_func\u001b[0m\u001b[0;34m\u001b[0m\u001b[0;34m\u001b[0m\u001b[0m\n\u001b[1;32m    536\u001b[0m             \u001b[0;32melse\u001b[0m\u001b[0;34m:\u001b[0m\u001b[0;34m\u001b[0m\u001b[0;34m\u001b[0m\u001b[0m\n\u001b[0;32m--> 537\u001b[0;31m                 \u001b[0mres\u001b[0m \u001b[0;34m=\u001b[0m \u001b[0mfunc\u001b[0m\u001b[0;34m(\u001b[0m\u001b[0mgroup\u001b[0m\u001b[0;34m,\u001b[0m \u001b[0;34m*\u001b[0m\u001b[0margs\u001b[0m\u001b[0;34m,\u001b[0m \u001b[0;34m**\u001b[0m\u001b[0mkwargs\u001b[0m\u001b[0;34m)\u001b[0m\u001b[0;34m\u001b[0m\u001b[0;34m\u001b[0m\u001b[0m\n\u001b[0m\u001b[1;32m    538\u001b[0m \u001b[0;34m\u001b[0m\u001b[0m\n\u001b[1;32m    539\u001b[0m             \u001b[0;32mif\u001b[0m \u001b[0misinstance\u001b[0m\u001b[0;34m(\u001b[0m\u001b[0mres\u001b[0m\u001b[0;34m,\u001b[0m \u001b[0;34m(\u001b[0m\u001b[0mABCDataFrame\u001b[0m\u001b[0;34m,\u001b[0m \u001b[0mABCSeries\u001b[0m\u001b[0;34m)\u001b[0m\u001b[0;34m)\u001b[0m\u001b[0;34m:\u001b[0m\u001b[0;34m\u001b[0m\u001b[0;34m\u001b[0m\u001b[0m\n",
            "\u001b[0;32m<ipython-input-104-f552a83d0421>\u001b[0m in \u001b[0;36m<lambda>\u001b[0;34m(x)\u001b[0m\n\u001b[0;32m----> 1\u001b[0;31m \u001b[0ms\u001b[0m\u001b[0;34m=\u001b[0m\u001b[0mdf\u001b[0m\u001b[0;34m.\u001b[0m\u001b[0mgroupby\u001b[0m\u001b[0;34m(\u001b[0m\u001b[0;34m'user_id'\u001b[0m\u001b[0;34m)\u001b[0m\u001b[0;34m[\u001b[0m\u001b[0;34m'preference_id'\u001b[0m\u001b[0;34m]\u001b[0m\u001b[0;34m.\u001b[0m\u001b[0mtransform\u001b[0m\u001b[0;34m(\u001b[0m\u001b[0;32mlambda\u001b[0m \u001b[0mx\u001b[0m\u001b[0;34m:\u001b[0m \u001b[0mx\u001b[0m\u001b[0;34m.\u001b[0m\u001b[0mmode\u001b[0m\u001b[0;34m(\u001b[0m\u001b[0;34m)\u001b[0m\u001b[0;34m.\u001b[0m\u001b[0miat\u001b[0m\u001b[0;34m[\u001b[0m\u001b[0;36m0\u001b[0m\u001b[0;34m]\u001b[0m\u001b[0;34m)\u001b[0m\u001b[0;34m\u001b[0m\u001b[0;34m\u001b[0m\u001b[0m\n\u001b[0m\u001b[1;32m      2\u001b[0m \u001b[0mdf\u001b[0m\u001b[0;34m.\u001b[0m\u001b[0mpreference_id\u001b[0m\u001b[0;34m=\u001b[0m\u001b[0mdf\u001b[0m\u001b[0;34m.\u001b[0m\u001b[0mpreference_id\u001b[0m\u001b[0;34m.\u001b[0m\u001b[0mfillna\u001b[0m\u001b[0;34m(\u001b[0m\u001b[0ms\u001b[0m\u001b[0;34m)\u001b[0m\u001b[0;34m\u001b[0m\u001b[0;34m\u001b[0m\u001b[0m\n\u001b[1;32m      3\u001b[0m \u001b[0mprint\u001b[0m\u001b[0;34m(\u001b[0m\u001b[0mdf\u001b[0m\u001b[0;34m)\u001b[0m\u001b[0;34m\u001b[0m\u001b[0;34m\u001b[0m\u001b[0m\n",
            "\u001b[0;32m/usr/local/lib/python3.6/dist-packages/pandas/core/indexing.py\u001b[0m in \u001b[0;36m__getitem__\u001b[0;34m(self, key)\u001b[0m\n\u001b[1;32m   2023\u001b[0m \u001b[0;34m\u001b[0m\u001b[0m\n\u001b[1;32m   2024\u001b[0m         \u001b[0mkey\u001b[0m \u001b[0;34m=\u001b[0m \u001b[0mself\u001b[0m\u001b[0;34m.\u001b[0m\u001b[0m_convert_key\u001b[0m\u001b[0;34m(\u001b[0m\u001b[0mkey\u001b[0m\u001b[0;34m)\u001b[0m\u001b[0;34m\u001b[0m\u001b[0;34m\u001b[0m\u001b[0m\n\u001b[0;32m-> 2025\u001b[0;31m         \u001b[0;32mreturn\u001b[0m \u001b[0mself\u001b[0m\u001b[0;34m.\u001b[0m\u001b[0mobj\u001b[0m\u001b[0;34m.\u001b[0m\u001b[0m_get_value\u001b[0m\u001b[0;34m(\u001b[0m\u001b[0;34m*\u001b[0m\u001b[0mkey\u001b[0m\u001b[0;34m,\u001b[0m \u001b[0mtakeable\u001b[0m\u001b[0;34m=\u001b[0m\u001b[0mself\u001b[0m\u001b[0;34m.\u001b[0m\u001b[0m_takeable\u001b[0m\u001b[0;34m)\u001b[0m\u001b[0;34m\u001b[0m\u001b[0;34m\u001b[0m\u001b[0m\n\u001b[0m\u001b[1;32m   2026\u001b[0m \u001b[0;34m\u001b[0m\u001b[0m\n\u001b[1;32m   2027\u001b[0m     \u001b[0;32mdef\u001b[0m \u001b[0m__setitem__\u001b[0m\u001b[0;34m(\u001b[0m\u001b[0mself\u001b[0m\u001b[0;34m,\u001b[0m \u001b[0mkey\u001b[0m\u001b[0;34m,\u001b[0m \u001b[0mvalue\u001b[0m\u001b[0;34m)\u001b[0m\u001b[0;34m:\u001b[0m\u001b[0;34m\u001b[0m\u001b[0;34m\u001b[0m\u001b[0m\n",
            "\u001b[0;32m/usr/local/lib/python3.6/dist-packages/pandas/core/series.py\u001b[0m in \u001b[0;36m_get_value\u001b[0;34m(self, label, takeable)\u001b[0m\n\u001b[1;32m    984\u001b[0m         \"\"\"\n\u001b[1;32m    985\u001b[0m         \u001b[0;32mif\u001b[0m \u001b[0mtakeable\u001b[0m\u001b[0;34m:\u001b[0m\u001b[0;34m\u001b[0m\u001b[0;34m\u001b[0m\u001b[0m\n\u001b[0;32m--> 986\u001b[0;31m             \u001b[0;32mreturn\u001b[0m \u001b[0mself\u001b[0m\u001b[0;34m.\u001b[0m\u001b[0m_values\u001b[0m\u001b[0;34m[\u001b[0m\u001b[0mlabel\u001b[0m\u001b[0;34m]\u001b[0m\u001b[0;34m\u001b[0m\u001b[0;34m\u001b[0m\u001b[0m\n\u001b[0m\u001b[1;32m    987\u001b[0m \u001b[0;34m\u001b[0m\u001b[0m\n\u001b[1;32m    988\u001b[0m         \u001b[0;31m# Similar to Index.get_value, but we do not fall back to positional\u001b[0m\u001b[0;34m\u001b[0m\u001b[0;34m\u001b[0m\u001b[0;34m\u001b[0m\u001b[0m\n",
            "\u001b[0;31mIndexError\u001b[0m: index 0 is out of bounds for axis 0 with size 0"
          ]
        }
      ]
    },
    {
      "cell_type": "code",
      "metadata": {
        "colab": {
          "base_uri": "https://localhost:8080/",
          "height": 439
        },
        "id": "cD2vKs2GLHbY",
        "outputId": "c26fee74-287f-4a39-bcc4-af913b32ca2f"
      },
      "source": [
        "data"
      ],
      "execution_count": null,
      "outputs": [
        {
          "output_type": "execute_result",
          "data": {
            "text/html": [
              "<div>\n",
              "<style scoped>\n",
              "    .dataframe tbody tr th:only-of-type {\n",
              "        vertical-align: middle;\n",
              "    }\n",
              "\n",
              "    .dataframe tbody tr th {\n",
              "        vertical-align: top;\n",
              "    }\n",
              "\n",
              "    .dataframe thead th {\n",
              "        text-align: right;\n",
              "    }\n",
              "</style>\n",
              "<table border=\"1\" class=\"dataframe\">\n",
              "  <thead>\n",
              "    <tr style=\"text-align: right;\">\n",
              "      <th></th>\n",
              "      <th>VendorID</th>\n",
              "      <th>tpep_pickup_datetime</th>\n",
              "      <th>tpep_dropoff_datetime</th>\n",
              "      <th>passenger_count</th>\n",
              "      <th>PULocationID</th>\n",
              "      <th>DOLocationID</th>\n",
              "      <th>fare_amount</th>\n",
              "      <th>tpep_pickup_datetime_new</th>\n",
              "      <th>tpep_pickup_Day_of_Week</th>\n",
              "      <th>tpep_dropoff_datetime_new</th>\n",
              "      <th>tpep_dropoff_Day_of_Week</th>\n",
              "    </tr>\n",
              "  </thead>\n",
              "  <tbody>\n",
              "    <tr>\n",
              "      <th>0</th>\n",
              "      <td>1.0</td>\n",
              "      <td>2020-01-01 00:28:15</td>\n",
              "      <td>2020-01-01 00:33:03</td>\n",
              "      <td>1.0</td>\n",
              "      <td>238</td>\n",
              "      <td>239</td>\n",
              "      <td>6.00</td>\n",
              "      <td>2020-01-01 00:28:15</td>\n",
              "      <td>Wednesday</td>\n",
              "      <td>2020-01-01 00:33:03</td>\n",
              "      <td>Wednesday</td>\n",
              "    </tr>\n",
              "    <tr>\n",
              "      <th>1</th>\n",
              "      <td>1.0</td>\n",
              "      <td>2020-01-01 00:35:39</td>\n",
              "      <td>2020-01-01 00:43:04</td>\n",
              "      <td>1.0</td>\n",
              "      <td>239</td>\n",
              "      <td>238</td>\n",
              "      <td>7.00</td>\n",
              "      <td>2020-01-01 00:35:39</td>\n",
              "      <td>Wednesday</td>\n",
              "      <td>2020-01-01 00:43:04</td>\n",
              "      <td>Wednesday</td>\n",
              "    </tr>\n",
              "    <tr>\n",
              "      <th>2</th>\n",
              "      <td>1.0</td>\n",
              "      <td>2020-01-01 00:47:41</td>\n",
              "      <td>2020-01-01 00:53:52</td>\n",
              "      <td>1.0</td>\n",
              "      <td>238</td>\n",
              "      <td>238</td>\n",
              "      <td>6.00</td>\n",
              "      <td>2020-01-01 00:47:41</td>\n",
              "      <td>Wednesday</td>\n",
              "      <td>2020-01-01 00:53:52</td>\n",
              "      <td>Wednesday</td>\n",
              "    </tr>\n",
              "    <tr>\n",
              "      <th>3</th>\n",
              "      <td>1.0</td>\n",
              "      <td>2020-01-01 00:55:23</td>\n",
              "      <td>2020-01-01 01:00:14</td>\n",
              "      <td>1.0</td>\n",
              "      <td>238</td>\n",
              "      <td>151</td>\n",
              "      <td>5.50</td>\n",
              "      <td>2020-01-01 00:55:23</td>\n",
              "      <td>Wednesday</td>\n",
              "      <td>2020-01-01 01:00:14</td>\n",
              "      <td>Wednesday</td>\n",
              "    </tr>\n",
              "    <tr>\n",
              "      <th>4</th>\n",
              "      <td>2.0</td>\n",
              "      <td>2020-01-01 00:01:58</td>\n",
              "      <td>2020-01-01 00:04:16</td>\n",
              "      <td>1.0</td>\n",
              "      <td>193</td>\n",
              "      <td>193</td>\n",
              "      <td>3.50</td>\n",
              "      <td>2020-01-01 00:01:58</td>\n",
              "      <td>Wednesday</td>\n",
              "      <td>2020-01-01 00:04:16</td>\n",
              "      <td>Wednesday</td>\n",
              "    </tr>\n",
              "    <tr>\n",
              "      <th>...</th>\n",
              "      <td>...</td>\n",
              "      <td>...</td>\n",
              "      <td>...</td>\n",
              "      <td>...</td>\n",
              "      <td>...</td>\n",
              "      <td>...</td>\n",
              "      <td>...</td>\n",
              "      <td>...</td>\n",
              "      <td>...</td>\n",
              "      <td>...</td>\n",
              "      <td>...</td>\n",
              "    </tr>\n",
              "    <tr>\n",
              "      <th>1243236</th>\n",
              "      <td>NaN</td>\n",
              "      <td>2020-01-07 09:18:00</td>\n",
              "      <td>2020-01-07 09:55:00</td>\n",
              "      <td>NaN</td>\n",
              "      <td>151</td>\n",
              "      <td>145</td>\n",
              "      <td>28.36</td>\n",
              "      <td>2020-01-07 09:18:00</td>\n",
              "      <td>Tuesday</td>\n",
              "      <td>2020-01-07 09:55:00</td>\n",
              "      <td>Tuesday</td>\n",
              "    </tr>\n",
              "    <tr>\n",
              "      <th>1243237</th>\n",
              "      <td>NaN</td>\n",
              "      <td>2020-01-07 09:05:00</td>\n",
              "      <td>2020-01-07 09:30:00</td>\n",
              "      <td>NaN</td>\n",
              "      <td>259</td>\n",
              "      <td>78</td>\n",
              "      <td>24.36</td>\n",
              "      <td>2020-01-07 09:05:00</td>\n",
              "      <td>Tuesday</td>\n",
              "      <td>2020-01-07 09:30:00</td>\n",
              "      <td>Tuesday</td>\n",
              "    </tr>\n",
              "    <tr>\n",
              "      <th>1243238</th>\n",
              "      <td>NaN</td>\n",
              "      <td>2020-01-07 09:05:00</td>\n",
              "      <td>2020-01-07 09:30:00</td>\n",
              "      <td>NaN</td>\n",
              "      <td>259</td>\n",
              "      <td>78</td>\n",
              "      <td>24.36</td>\n",
              "      <td>2020-01-07 09:05:00</td>\n",
              "      <td>Tuesday</td>\n",
              "      <td>2020-01-07 09:30:00</td>\n",
              "      <td>Tuesday</td>\n",
              "    </tr>\n",
              "    <tr>\n",
              "      <th>1243239</th>\n",
              "      <td>NaN</td>\n",
              "      <td>2020-01-07 09:49:00</td>\n",
              "      <td>2020-01-07 09:58:00</td>\n",
              "      <td>NaN</td>\n",
              "      <td>116</td>\n",
              "      <td>166</td>\n",
              "      <td>20.06</td>\n",
              "      <td>2020-01-07 09:49:00</td>\n",
              "      <td>Tuesday</td>\n",
              "      <td>2020-01-07 09:58:00</td>\n",
              "      <td>Tuesday</td>\n",
              "    </tr>\n",
              "    <tr>\n",
              "      <th>1243240</th>\n",
              "      <td>NaN</td>\n",
              "      <td>2020-01-07 09:49:00</td>\n",
              "      <td>2020-01-07 09:58:00</td>\n",
              "      <td>NaN</td>\n",
              "      <td>116</td>\n",
              "      <td>166</td>\n",
              "      <td>20.06</td>\n",
              "      <td>2020-01-07 09:49:00</td>\n",
              "      <td>Tuesday</td>\n",
              "      <td>2020-01-07 09:58:00</td>\n",
              "      <td>Tuesday</td>\n",
              "    </tr>\n",
              "  </tbody>\n",
              "</table>\n",
              "<p>1243241 rows × 11 columns</p>\n",
              "</div>"
            ],
            "text/plain": [
              "         VendorID  ... tpep_dropoff_Day_of_Week\n",
              "0             1.0  ...                Wednesday\n",
              "1             1.0  ...                Wednesday\n",
              "2             1.0  ...                Wednesday\n",
              "3             1.0  ...                Wednesday\n",
              "4             2.0  ...                Wednesday\n",
              "...           ...  ...                      ...\n",
              "1243236       NaN  ...                  Tuesday\n",
              "1243237       NaN  ...                  Tuesday\n",
              "1243238       NaN  ...                  Tuesday\n",
              "1243239       NaN  ...                  Tuesday\n",
              "1243240       NaN  ...                  Tuesday\n",
              "\n",
              "[1243241 rows x 11 columns]"
            ]
          },
          "metadata": {
            "tags": []
          },
          "execution_count": 105
        }
      ]
    },
    {
      "cell_type": "code",
      "metadata": {
        "colab": {
          "base_uri": "https://localhost:8080/"
        },
        "id": "afjqiQcOMk7I",
        "outputId": "70032826-ee09-4530-a9d8-3b053b644406"
      },
      "source": [
        "data.shape"
      ],
      "execution_count": null,
      "outputs": [
        {
          "output_type": "execute_result",
          "data": {
            "text/plain": [
              "(1243241, 11)"
            ]
          },
          "metadata": {
            "tags": []
          },
          "execution_count": 106
        }
      ]
    },
    {
      "cell_type": "code",
      "metadata": {
        "id": "PENOeN7EMnmC"
      },
      "source": [
        "from sklearn.impute import SimpleImputer"
      ],
      "execution_count": null,
      "outputs": []
    },
    {
      "cell_type": "code",
      "metadata": {
        "id": "v4VFf5DNMwf2"
      },
      "source": [
        "mode_imputer = SimpleImputer(missing_values=np.nan, strategy='most_frequent')\r\n",
        "mode_imputer=mode_imputer.fit(data[['passenger_count']])\r\n",
        "data['passenger_count_max_freq'] = mode_imputer.transform(data[['passenger_count']]).ravel()"
      ],
      "execution_count": null,
      "outputs": []
    },
    {
      "cell_type": "code",
      "metadata": {
        "id": "eqafa7lHOEUM"
      },
      "source": [
        "mode_imputer = SimpleImputer(missing_values=np.nan, strategy='median')\r\n",
        "mode_imputer=mode_imputer.fit(data[['passenger_count']])\r\n",
        "data['passenger_count_median_freq'] = mode_imputer.transform(data[['passenger_count']]).ravel()"
      ],
      "execution_count": null,
      "outputs": []
    },
    {
      "cell_type": "code",
      "metadata": {
        "colab": {
          "base_uri": "https://localhost:8080/"
        },
        "id": "uY3SKovcOFi0",
        "outputId": "cc2a5d86-954c-475d-9997-39ab296ef442"
      },
      "source": [
        "data.nunique()"
      ],
      "execution_count": null,
      "outputs": [
        {
          "output_type": "execute_result",
          "data": {
            "text/plain": [
              "VendorID                            2\n",
              "tpep_pickup_datetime           465021\n",
              "tpep_dropoff_datetime          466414\n",
              "passenger_count                    10\n",
              "PULocationID                      255\n",
              "DOLocationID                      261\n",
              "fare_amount                      3135\n",
              "tpep_pickup_datetime_new       465021\n",
              "tpep_pickup_Day_of_Week             7\n",
              "tpep_dropoff_datetime_new      466414\n",
              "tpep_dropoff_Day_of_Week            7\n",
              "passenger_count_new                10\n",
              "passenger_count_max_freq           10\n",
              "passenger_count_median_freq        10\n",
              "dtype: int64"
            ]
          },
          "metadata": {
            "tags": []
          },
          "execution_count": 118
        }
      ]
    },
    {
      "cell_type": "code",
      "metadata": {
        "colab": {
          "base_uri": "https://localhost:8080/"
        },
        "id": "FT4FRkeBOTkC",
        "outputId": "75d1de91-840c-4d7d-cda1-4ea7d3120d2b"
      },
      "source": [
        "data.passenger_count.median()"
      ],
      "execution_count": null,
      "outputs": [
        {
          "output_type": "execute_result",
          "data": {
            "text/plain": [
              "1.0"
            ]
          },
          "metadata": {
            "tags": []
          },
          "execution_count": 119
        }
      ]
    },
    {
      "cell_type": "code",
      "metadata": {
        "colab": {
          "base_uri": "https://localhost:8080/"
        },
        "id": "1h_0vvMJPMER",
        "outputId": "f489dfe1-0d69-4128-c15b-4a584b32f266"
      },
      "source": [
        "data.passenger_count_max_freq.median()"
      ],
      "execution_count": null,
      "outputs": [
        {
          "output_type": "execute_result",
          "data": {
            "text/plain": [
              "1.0"
            ]
          },
          "metadata": {
            "tags": []
          },
          "execution_count": 120
        }
      ]
    },
    {
      "cell_type": "code",
      "metadata": {
        "colab": {
          "base_uri": "https://localhost:8080/"
        },
        "id": "ppKEwnDWPPT5",
        "outputId": "94e624b4-d6ee-45ae-ef08-28972b03585e"
      },
      "source": [
        "data.passenger_count_median_freq.median()"
      ],
      "execution_count": null,
      "outputs": [
        {
          "output_type": "execute_result",
          "data": {
            "text/plain": [
              "1.0"
            ]
          },
          "metadata": {
            "tags": []
          },
          "execution_count": 121
        }
      ]
    },
    {
      "cell_type": "code",
      "metadata": {
        "id": "H3Z7zpe8PX39"
      },
      "source": [
        "exam_data = pd.read_csv(\"https://raw.githubusercontent.com/dphi-official/Datasets/master/exam_scores.csv\")"
      ],
      "execution_count": null,
      "outputs": []
    },
    {
      "cell_type": "code",
      "metadata": {
        "colab": {
          "base_uri": "https://localhost:8080/",
          "height": 419
        },
        "id": "GHG7W7bWb90q",
        "outputId": "81aef8c4-93a0-4675-a38b-16a83bdd7536"
      },
      "source": [
        "exam_data"
      ],
      "execution_count": null,
      "outputs": [
        {
          "output_type": "execute_result",
          "data": {
            "text/html": [
              "<div>\n",
              "<style scoped>\n",
              "    .dataframe tbody tr th:only-of-type {\n",
              "        vertical-align: middle;\n",
              "    }\n",
              "\n",
              "    .dataframe tbody tr th {\n",
              "        vertical-align: top;\n",
              "    }\n",
              "\n",
              "    .dataframe thead th {\n",
              "        text-align: right;\n",
              "    }\n",
              "</style>\n",
              "<table border=\"1\" class=\"dataframe\">\n",
              "  <thead>\n",
              "    <tr style=\"text-align: right;\">\n",
              "      <th></th>\n",
              "      <th>gender</th>\n",
              "      <th>race/ethnicity</th>\n",
              "      <th>parental level of education</th>\n",
              "      <th>lunch</th>\n",
              "      <th>test preparation course</th>\n",
              "      <th>math score</th>\n",
              "      <th>reading score</th>\n",
              "      <th>writing score</th>\n",
              "    </tr>\n",
              "  </thead>\n",
              "  <tbody>\n",
              "    <tr>\n",
              "      <th>0</th>\n",
              "      <td>male</td>\n",
              "      <td>group B</td>\n",
              "      <td>bachelor's degree</td>\n",
              "      <td>standard</td>\n",
              "      <td>none</td>\n",
              "      <td>74</td>\n",
              "      <td>68</td>\n",
              "      <td>67</td>\n",
              "    </tr>\n",
              "    <tr>\n",
              "      <th>1</th>\n",
              "      <td>female</td>\n",
              "      <td>group C</td>\n",
              "      <td>some college</td>\n",
              "      <td>standard</td>\n",
              "      <td>completed</td>\n",
              "      <td>58</td>\n",
              "      <td>68</td>\n",
              "      <td>66</td>\n",
              "    </tr>\n",
              "    <tr>\n",
              "      <th>2</th>\n",
              "      <td>male</td>\n",
              "      <td>group C</td>\n",
              "      <td>some college</td>\n",
              "      <td>free/reduced</td>\n",
              "      <td>none</td>\n",
              "      <td>66</td>\n",
              "      <td>65</td>\n",
              "      <td>65</td>\n",
              "    </tr>\n",
              "    <tr>\n",
              "      <th>3</th>\n",
              "      <td>female</td>\n",
              "      <td>group D</td>\n",
              "      <td>bachelor's degree</td>\n",
              "      <td>free/reduced</td>\n",
              "      <td>none</td>\n",
              "      <td>74</td>\n",
              "      <td>75</td>\n",
              "      <td>73</td>\n",
              "    </tr>\n",
              "    <tr>\n",
              "      <th>4</th>\n",
              "      <td>male</td>\n",
              "      <td>group D</td>\n",
              "      <td>some college</td>\n",
              "      <td>standard</td>\n",
              "      <td>none</td>\n",
              "      <td>78</td>\n",
              "      <td>77</td>\n",
              "      <td>71</td>\n",
              "    </tr>\n",
              "    <tr>\n",
              "      <th>...</th>\n",
              "      <td>...</td>\n",
              "      <td>...</td>\n",
              "      <td>...</td>\n",
              "      <td>...</td>\n",
              "      <td>...</td>\n",
              "      <td>...</td>\n",
              "      <td>...</td>\n",
              "      <td>...</td>\n",
              "    </tr>\n",
              "    <tr>\n",
              "      <th>995</th>\n",
              "      <td>female</td>\n",
              "      <td>group C</td>\n",
              "      <td>some high school</td>\n",
              "      <td>standard</td>\n",
              "      <td>none</td>\n",
              "      <td>68</td>\n",
              "      <td>77</td>\n",
              "      <td>72</td>\n",
              "    </tr>\n",
              "    <tr>\n",
              "      <th>996</th>\n",
              "      <td>female</td>\n",
              "      <td>group E</td>\n",
              "      <td>some college</td>\n",
              "      <td>standard</td>\n",
              "      <td>none</td>\n",
              "      <td>98</td>\n",
              "      <td>81</td>\n",
              "      <td>94</td>\n",
              "    </tr>\n",
              "    <tr>\n",
              "      <th>997</th>\n",
              "      <td>female</td>\n",
              "      <td>group E</td>\n",
              "      <td>associate's degree</td>\n",
              "      <td>free/reduced</td>\n",
              "      <td>none</td>\n",
              "      <td>67</td>\n",
              "      <td>67</td>\n",
              "      <td>67</td>\n",
              "    </tr>\n",
              "    <tr>\n",
              "      <th>998</th>\n",
              "      <td>female</td>\n",
              "      <td>group C</td>\n",
              "      <td>high school</td>\n",
              "      <td>standard</td>\n",
              "      <td>none</td>\n",
              "      <td>63</td>\n",
              "      <td>68</td>\n",
              "      <td>70</td>\n",
              "    </tr>\n",
              "    <tr>\n",
              "      <th>999</th>\n",
              "      <td>male</td>\n",
              "      <td>group C</td>\n",
              "      <td>some college</td>\n",
              "      <td>free/reduced</td>\n",
              "      <td>none</td>\n",
              "      <td>49</td>\n",
              "      <td>57</td>\n",
              "      <td>50</td>\n",
              "    </tr>\n",
              "  </tbody>\n",
              "</table>\n",
              "<p>1000 rows × 8 columns</p>\n",
              "</div>"
            ],
            "text/plain": [
              "     gender race/ethnicity  ... reading score writing score\n",
              "0      male        group B  ...            68            67\n",
              "1    female        group C  ...            68            66\n",
              "2      male        group C  ...            65            65\n",
              "3    female        group D  ...            75            73\n",
              "4      male        group D  ...            77            71\n",
              "..      ...            ...  ...           ...           ...\n",
              "995  female        group C  ...            77            72\n",
              "996  female        group E  ...            81            94\n",
              "997  female        group E  ...            67            67\n",
              "998  female        group C  ...            68            70\n",
              "999    male        group C  ...            57            50\n",
              "\n",
              "[1000 rows x 8 columns]"
            ]
          },
          "metadata": {
            "tags": []
          },
          "execution_count": 126
        }
      ]
    },
    {
      "cell_type": "code",
      "metadata": {
        "colab": {
          "base_uri": "https://localhost:8080/"
        },
        "id": "B3EsimPcbpD1",
        "outputId": "0af4c117-7345-4390-e25d-3289ea768903"
      },
      "source": [
        "exam_data['race/ethnicity'].value_counts()"
      ],
      "execution_count": null,
      "outputs": [
        {
          "output_type": "execute_result",
          "data": {
            "text/plain": [
              "group C    294\n",
              "group D    280\n",
              "group B    211\n",
              "group E    152\n",
              "group A     63\n",
              "Name: race/ethnicity, dtype: int64"
            ]
          },
          "metadata": {
            "tags": []
          },
          "execution_count": 125
        }
      ]
    },
    {
      "cell_type": "code",
      "metadata": {
        "colab": {
          "base_uri": "https://localhost:8080/"
        },
        "id": "wvW8lnRCbvXQ",
        "outputId": "5ad4ed21-f641-4bc8-cf8b-be08c4698828"
      },
      "source": [
        "exam_data['parental level of education'].value_counts()"
      ],
      "execution_count": null,
      "outputs": [
        {
          "output_type": "execute_result",
          "data": {
            "text/plain": [
              "some college          226\n",
              "associate's degree    197\n",
              "high school           190\n",
              "some high school      181\n",
              "bachelor's degree     130\n",
              "master's degree        76\n",
              "Name: parental level of education, dtype: int64"
            ]
          },
          "metadata": {
            "tags": []
          },
          "execution_count": 129
        }
      ]
    },
    {
      "cell_type": "code",
      "metadata": {
        "colab": {
          "base_uri": "https://localhost:8080/",
          "height": 297
        },
        "id": "ymG6a5dWcHJa",
        "outputId": "f3f63426-572b-4523-9acc-31530a11b24d"
      },
      "source": [
        "exam_data.describe()"
      ],
      "execution_count": null,
      "outputs": [
        {
          "output_type": "execute_result",
          "data": {
            "text/html": [
              "<div>\n",
              "<style scoped>\n",
              "    .dataframe tbody tr th:only-of-type {\n",
              "        vertical-align: middle;\n",
              "    }\n",
              "\n",
              "    .dataframe tbody tr th {\n",
              "        vertical-align: top;\n",
              "    }\n",
              "\n",
              "    .dataframe thead th {\n",
              "        text-align: right;\n",
              "    }\n",
              "</style>\n",
              "<table border=\"1\" class=\"dataframe\">\n",
              "  <thead>\n",
              "    <tr style=\"text-align: right;\">\n",
              "      <th></th>\n",
              "      <th>math score</th>\n",
              "      <th>reading score</th>\n",
              "      <th>writing score</th>\n",
              "    </tr>\n",
              "  </thead>\n",
              "  <tbody>\n",
              "    <tr>\n",
              "      <th>count</th>\n",
              "      <td>1000.000000</td>\n",
              "      <td>1000.00000</td>\n",
              "      <td>1000.000000</td>\n",
              "    </tr>\n",
              "    <tr>\n",
              "      <th>mean</th>\n",
              "      <td>67.128000</td>\n",
              "      <td>70.17400</td>\n",
              "      <td>68.973000</td>\n",
              "    </tr>\n",
              "    <tr>\n",
              "      <th>std</th>\n",
              "      <td>14.815367</td>\n",
              "      <td>14.85599</td>\n",
              "      <td>15.109155</td>\n",
              "    </tr>\n",
              "    <tr>\n",
              "      <th>min</th>\n",
              "      <td>15.000000</td>\n",
              "      <td>18.00000</td>\n",
              "      <td>10.000000</td>\n",
              "    </tr>\n",
              "    <tr>\n",
              "      <th>25%</th>\n",
              "      <td>58.000000</td>\n",
              "      <td>60.00000</td>\n",
              "      <td>59.000000</td>\n",
              "    </tr>\n",
              "    <tr>\n",
              "      <th>50%</th>\n",
              "      <td>67.000000</td>\n",
              "      <td>70.00000</td>\n",
              "      <td>69.000000</td>\n",
              "    </tr>\n",
              "    <tr>\n",
              "      <th>75%</th>\n",
              "      <td>78.000000</td>\n",
              "      <td>81.00000</td>\n",
              "      <td>80.000000</td>\n",
              "    </tr>\n",
              "    <tr>\n",
              "      <th>max</th>\n",
              "      <td>100.000000</td>\n",
              "      <td>100.00000</td>\n",
              "      <td>100.000000</td>\n",
              "    </tr>\n",
              "  </tbody>\n",
              "</table>\n",
              "</div>"
            ],
            "text/plain": [
              "        math score  reading score  writing score\n",
              "count  1000.000000     1000.00000    1000.000000\n",
              "mean     67.128000       70.17400      68.973000\n",
              "std      14.815367       14.85599      15.109155\n",
              "min      15.000000       18.00000      10.000000\n",
              "25%      58.000000       60.00000      59.000000\n",
              "50%      67.000000       70.00000      69.000000\n",
              "75%      78.000000       81.00000      80.000000\n",
              "max     100.000000      100.00000     100.000000"
            ]
          },
          "metadata": {
            "tags": []
          },
          "execution_count": 130
        }
      ]
    },
    {
      "cell_type": "code",
      "metadata": {
        "colab": {
          "base_uri": "https://localhost:8080/"
        },
        "id": "_MeG31VhcXs5",
        "outputId": "e6023ea8-5672-4a39-ff15-f255c407e14d"
      },
      "source": [
        "exam_data['test preparation course'].mode()"
      ],
      "execution_count": null,
      "outputs": [
        {
          "output_type": "execute_result",
          "data": {
            "text/plain": [
              "0    none\n",
              "dtype: object"
            ]
          },
          "metadata": {
            "tags": []
          },
          "execution_count": 131
        }
      ]
    },
    {
      "cell_type": "code",
      "metadata": {
        "colab": {
          "base_uri": "https://localhost:8080/"
        },
        "id": "GNC0o5GicnmJ",
        "outputId": "341e666f-6697-4a94-fe00-1aedf5efc6a9"
      },
      "source": [
        "exam_data['test preparation course'].value_counts()"
      ],
      "execution_count": null,
      "outputs": [
        {
          "output_type": "execute_result",
          "data": {
            "text/plain": [
              "none         654\n",
              "completed    346\n",
              "Name: test preparation course, dtype: int64"
            ]
          },
          "metadata": {
            "tags": []
          },
          "execution_count": 134
        }
      ]
    },
    {
      "cell_type": "code",
      "metadata": {
        "colab": {
          "base_uri": "https://localhost:8080/"
        },
        "id": "WjGatR5Ncr7j",
        "outputId": "370e050a-5777-4fe1-a69d-f0b55ae6c424"
      },
      "source": [
        "346/(346+654)"
      ],
      "execution_count": null,
      "outputs": [
        {
          "output_type": "execute_result",
          "data": {
            "text/plain": [
              "0.346"
            ]
          },
          "metadata": {
            "tags": []
          },
          "execution_count": 135
        }
      ]
    },
    {
      "cell_type": "code",
      "metadata": {
        "id": "PAlXqUcsc8Oz"
      },
      "source": [
        "import matplotlib.pyplot as plt\r\n",
        "import seaborn as sns"
      ],
      "execution_count": null,
      "outputs": []
    },
    {
      "cell_type": "code",
      "metadata": {
        "colab": {
          "base_uri": "https://localhost:8080/",
          "height": 419
        },
        "id": "NPOt_qmRfmyH",
        "outputId": "c956edeb-e6e1-4b05-dd21-1e07575d4828"
      },
      "source": [
        "dataset = exam_data[['reading score',\t'writing score']]\r\n",
        "dataset"
      ],
      "execution_count": null,
      "outputs": [
        {
          "output_type": "execute_result",
          "data": {
            "text/html": [
              "<div>\n",
              "<style scoped>\n",
              "    .dataframe tbody tr th:only-of-type {\n",
              "        vertical-align: middle;\n",
              "    }\n",
              "\n",
              "    .dataframe tbody tr th {\n",
              "        vertical-align: top;\n",
              "    }\n",
              "\n",
              "    .dataframe thead th {\n",
              "        text-align: right;\n",
              "    }\n",
              "</style>\n",
              "<table border=\"1\" class=\"dataframe\">\n",
              "  <thead>\n",
              "    <tr style=\"text-align: right;\">\n",
              "      <th></th>\n",
              "      <th>reading score</th>\n",
              "      <th>writing score</th>\n",
              "    </tr>\n",
              "  </thead>\n",
              "  <tbody>\n",
              "    <tr>\n",
              "      <th>0</th>\n",
              "      <td>68</td>\n",
              "      <td>67</td>\n",
              "    </tr>\n",
              "    <tr>\n",
              "      <th>1</th>\n",
              "      <td>68</td>\n",
              "      <td>66</td>\n",
              "    </tr>\n",
              "    <tr>\n",
              "      <th>2</th>\n",
              "      <td>65</td>\n",
              "      <td>65</td>\n",
              "    </tr>\n",
              "    <tr>\n",
              "      <th>3</th>\n",
              "      <td>75</td>\n",
              "      <td>73</td>\n",
              "    </tr>\n",
              "    <tr>\n",
              "      <th>4</th>\n",
              "      <td>77</td>\n",
              "      <td>71</td>\n",
              "    </tr>\n",
              "    <tr>\n",
              "      <th>...</th>\n",
              "      <td>...</td>\n",
              "      <td>...</td>\n",
              "    </tr>\n",
              "    <tr>\n",
              "      <th>995</th>\n",
              "      <td>77</td>\n",
              "      <td>72</td>\n",
              "    </tr>\n",
              "    <tr>\n",
              "      <th>996</th>\n",
              "      <td>81</td>\n",
              "      <td>94</td>\n",
              "    </tr>\n",
              "    <tr>\n",
              "      <th>997</th>\n",
              "      <td>67</td>\n",
              "      <td>67</td>\n",
              "    </tr>\n",
              "    <tr>\n",
              "      <th>998</th>\n",
              "      <td>68</td>\n",
              "      <td>70</td>\n",
              "    </tr>\n",
              "    <tr>\n",
              "      <th>999</th>\n",
              "      <td>57</td>\n",
              "      <td>50</td>\n",
              "    </tr>\n",
              "  </tbody>\n",
              "</table>\n",
              "<p>1000 rows × 2 columns</p>\n",
              "</div>"
            ],
            "text/plain": [
              "     reading score  writing score\n",
              "0               68             67\n",
              "1               68             66\n",
              "2               65             65\n",
              "3               75             73\n",
              "4               77             71\n",
              "..             ...            ...\n",
              "995             77             72\n",
              "996             81             94\n",
              "997             67             67\n",
              "998             68             70\n",
              "999             57             50\n",
              "\n",
              "[1000 rows x 2 columns]"
            ]
          },
          "metadata": {
            "tags": []
          },
          "execution_count": 149
        }
      ]
    },
    {
      "cell_type": "code",
      "metadata": {
        "colab": {
          "base_uri": "https://localhost:8080/",
          "height": 286
        },
        "id": "di7bSHsKd1vm",
        "outputId": "73d04c98-97e1-4331-da08-6dc9cc39dce7"
      },
      "source": [
        "corr_mtx_dataset=dataset.corr()\r\n",
        "sns.heatmap(data=corr_mtx_dataset, annot=True)"
      ],
      "execution_count": null,
      "outputs": [
        {
          "output_type": "execute_result",
          "data": {
            "text/plain": [
              "<matplotlib.axes._subplots.AxesSubplot at 0x7f492b6adf98>"
            ]
          },
          "metadata": {
            "tags": []
          },
          "execution_count": 154
        },
        {
          "output_type": "display_data",
          "data": {
            "image/png": "[encoded data removed]",
            "text/plain": [
              "<Figure size 432x288 with 2 Axes>"
            ]
          },
          "metadata": {
            "tags": [],
            "needs_background": "light"
          }
        }
      ]
    },
    {
      "cell_type": "code",
      "metadata": {
        "colab": {
          "base_uri": "https://localhost:8080/",
          "height": 282
        },
        "id": "Gt4XawYYfQfD",
        "outputId": "dc95abaa-f115-4624-ad12-187eb186f325"
      },
      "source": [
        "plt.bar(dataset['reading score'], dataset['writing score'])"
      ],
      "execution_count": null,
      "outputs": [
        {
          "output_type": "execute_result",
          "data": {
            "text/plain": [
              "<BarContainer object of 1000 artists>"
            ]
          },
          "metadata": {
            "tags": []
          },
          "execution_count": 152
        },
        {
          "output_type": "display_data",
          "data": {
            "image/png": "[encoded data removed]",
            "text/plain": [
              "<Figure size 432x288 with 1 Axes>"
            ]
          },
          "metadata": {
            "tags": [],
            "needs_background": "light"
          }
        }
      ]
    },
    {
      "cell_type": "code",
      "metadata": {
        "colab": {
          "base_uri": "https://localhost:8080/"
        },
        "id": "AIVmpYzggHjv",
        "outputId": "10f45e84-20b2-45cf-81cb-5e4d43cf9d7b"
      },
      "source": [
        "exam_data['gender'].value_counts()"
      ],
      "execution_count": null,
      "outputs": [
        {
          "output_type": "execute_result",
          "data": {
            "text/plain": [
              "female    502\n",
              "male      498\n",
              "Name: gender, dtype: int64"
            ]
          },
          "metadata": {
            "tags": []
          },
          "execution_count": 156
        }
      ]
    },
    {
      "cell_type": "code",
      "metadata": {
        "id": "y-HKzXM8gsOn"
      },
      "source": [
        "group_a = exam_data[(exam_data['race/ethnicity']=='group A')]"
      ],
      "execution_count": null,
      "outputs": []
    },
    {
      "cell_type": "code",
      "metadata": {
        "colab": {
          "base_uri": "https://localhost:8080/"
        },
        "id": "dGxwHBmvhgyU",
        "outputId": "b5525113-ba55-41e8-8842-2631602cbc0e"
      },
      "source": [
        "group_a.nunique()"
      ],
      "execution_count": null,
      "outputs": [
        {
          "output_type": "execute_result",
          "data": {
            "text/plain": [
              "gender                          2\n",
              "race/ethnicity                  1\n",
              "parental level of education     6\n",
              "lunch                           2\n",
              "test preparation course         2\n",
              "math score                     37\n",
              "reading score                  38\n",
              "writing score                  35\n",
              "dtype: int64"
            ]
          },
          "metadata": {
            "tags": []
          },
          "execution_count": 160
        }
      ]
    },
    {
      "cell_type": "code",
      "metadata": {
        "id": "VoB_OnN1hkvW"
      },
      "source": [
        "course_completed=exam_data[(exam_data['test preparation course']=='completed')]"
      ],
      "execution_count": null,
      "outputs": []
    },
    {
      "cell_type": "code",
      "metadata": {
        "colab": {
          "base_uri": "https://localhost:8080/"
        },
        "id": "nDxx3hQmh93j",
        "outputId": "425a7c97-dade-4653-f2c4-e404acfee466"
      },
      "source": [
        "course_completed.nunique()"
      ],
      "execution_count": null,
      "outputs": [
        {
          "output_type": "execute_result",
          "data": {
            "text/plain": [
              "gender                          2\n",
              "race/ethnicity                  5\n",
              "parental level of education     6\n",
              "lunch                           2\n",
              "test preparation course         1\n",
              "math score                     60\n",
              "reading score                  59\n",
              "writing score                  56\n",
              "dtype: int64"
            ]
          },
          "metadata": {
            "tags": []
          },
          "execution_count": 162
        }
      ]
    },
    {
      "cell_type": "code",
      "metadata": {
        "colab": {
          "base_uri": "https://localhost:8080/"
        },
        "id": "VTcx8JgQiAHl",
        "outputId": "677c77ae-b43f-455d-d7b8-e6aecbfe16eb"
      },
      "source": [
        "group_a[group_a['test preparation course']=='completed'].count()"
      ],
      "execution_count": null,
      "outputs": [
        {
          "output_type": "execute_result",
          "data": {
            "text/plain": [
              "gender                         21\n",
              "race/ethnicity                 21\n",
              "parental level of education    21\n",
              "lunch                          21\n",
              "test preparation course        21\n",
              "math score                     21\n",
              "reading score                  21\n",
              "writing score                  21\n",
              "dtype: int64"
            ]
          },
          "metadata": {
            "tags": []
          },
          "execution_count": 163
        }
      ]
    },
    {
      "cell_type": "code",
      "metadata": {
        "colab": {
          "base_uri": "https://localhost:8080/",
          "height": 388
        },
        "id": "a9D7-q-tiPp_",
        "outputId": "b452838f-157c-428c-cfa4-92b360c188cc"
      },
      "source": [
        "plt.figure(figsize=(12,5))\r\n",
        "plt.hist(group_a['math score'],color='orange')"
      ],
      "execution_count": null,
      "outputs": [
        {
          "output_type": "execute_result",
          "data": {
            "text/plain": [
              "(array([ 5.,  3.,  6., 15.,  7., 12.,  8.,  2.,  4.,  1.]),\n",
              " array([ 38. ,  44.2,  50.4,  56.6,  62.8,  69. ,  75.2,  81.4,  87.6,\n",
              "         93.8, 100. ]),\n",
              " <a list of 10 Patch objects>)"
            ]
          },
          "metadata": {
            "tags": []
          },
          "execution_count": 170
        },
        {
          "output_type": "display_data",
          "data": {
            "image/png": "[encoded data removed]",
            "text/plain": [
              "<Figure size 864x360 with 1 Axes>"
            ]
          },
          "metadata": {
            "tags": [],
            "needs_background": "light"
          }
        }
      ]
    },
    {
      "cell_type": "code",
      "metadata": {
        "colab": {
          "base_uri": "https://localhost:8080/",
          "height": 388
        },
        "id": "ucIoH8yliwSp",
        "outputId": "dd56ce6d-f373-4c9b-d7d3-94e861f40633"
      },
      "source": [
        "plt.figure(figsize=(12,5))\r\n",
        "plt.hist(course_completed['math score'],color='orange')"
      ],
      "execution_count": null,
      "outputs": [
        {
          "output_type": "execute_result",
          "data": {
            "text/plain": [
              "(array([ 4.,  6., 25., 30., 59., 55., 51., 61., 37., 18.]),\n",
              " array([ 28. ,  35.2,  42.4,  49.6,  56.8,  64. ,  71.2,  78.4,  85.6,\n",
              "         92.8, 100. ]),\n",
              " <a list of 10 Patch objects>)"
            ]
          },
          "metadata": {
            "tags": []
          },
          "execution_count": 178
        },
        {
          "output_type": "display_data",
          "data": {
            "image/png": "[encoded data removed]",
            "text/plain": [
              "<Figure size 864x360 with 1 Axes>"
            ]
          },
          "metadata": {
            "tags": [],
            "needs_background": "light"
          }
        }
      ]
    },
    {
      "cell_type": "code",
      "metadata": {
        "colab": {
          "base_uri": "https://localhost:8080/"
        },
        "id": "PeHcSAS5jaAg",
        "outputId": "76a54d4a-bb58-477a-8145-d2e306213aa2"
      },
      "source": [
        "course_completed['gender'].value_counts()"
      ],
      "execution_count": null,
      "outputs": [
        {
          "output_type": "execute_result",
          "data": {
            "text/plain": [
              "male      184\n",
              "female    162\n",
              "Name: gender, dtype: int64"
            ]
          },
          "metadata": {
            "tags": []
          },
          "execution_count": 182
        }
      ]
    },
    {
      "cell_type": "code",
      "metadata": {
        "id": "MreT1bB_j2l0"
      },
      "source": [
        "concat_data = pd.concat([group_a,course_completed])"
      ],
      "execution_count": null,
      "outputs": []
    },
    {
      "cell_type": "code",
      "metadata": {
        "colab": {
          "base_uri": "https://localhost:8080/"
        },
        "id": "7sXPKR77lNSu",
        "outputId": "4cd76460-c094-4c9d-dc93-8659c7d642bc"
      },
      "source": [
        "concat_data.count()"
      ],
      "execution_count": null,
      "outputs": [
        {
          "output_type": "execute_result",
          "data": {
            "text/plain": [
              "gender                         409\n",
              "race/ethnicity                 409\n",
              "parental level of education    409\n",
              "lunch                          409\n",
              "test preparation course        409\n",
              "math score                     409\n",
              "reading score                  409\n",
              "writing score                  409\n",
              "dtype: int64"
            ]
          },
          "metadata": {
            "tags": []
          },
          "execution_count": 185
        }
      ]
    },
    {
      "cell_type": "code",
      "metadata": {
        "colab": {
          "base_uri": "https://localhost:8080/"
        },
        "id": "6dzJzu2klQ0q",
        "outputId": "a3a8ff98-145b-40cb-99c8-c11d2ce0ff0d"
      },
      "source": [
        "concat_data.drop_duplicates().count()"
      ],
      "execution_count": null,
      "outputs": [
        {
          "output_type": "execute_result",
          "data": {
            "text/plain": [
              "gender                         388\n",
              "race/ethnicity                 388\n",
              "parental level of education    388\n",
              "lunch                          388\n",
              "test preparation course        388\n",
              "math score                     388\n",
              "reading score                  388\n",
              "writing score                  388\n",
              "dtype: int64"
            ]
          },
          "metadata": {
            "tags": []
          },
          "execution_count": 198
        }
      ]
    },
    {
      "cell_type": "code",
      "metadata": {
        "colab": {
          "base_uri": "https://localhost:8080/"
        },
        "id": "vBTiX1BllW5q",
        "outputId": "96ee1806-0246-4b4a-dc3c-689718e5dde1"
      },
      "source": [
        "409-388"
      ],
      "execution_count": null,
      "outputs": [
        {
          "output_type": "execute_result",
          "data": {
            "text/plain": [
              "21"
            ]
          },
          "metadata": {
            "tags": []
          },
          "execution_count": 199
        }
      ]
    },
    {
      "cell_type": "code",
      "metadata": {
        "id": "dSlbBCZxmOnb"
      },
      "source": [
        "a = concat_data[(concat_data['race/ethnicity']=='group_a') & (concat_data['test preparation course']=='completed')]"
      ],
      "execution_count": null,
      "outputs": []
    },
    {
      "cell_type": "code",
      "metadata": {
        "id": "FNNflK-cm4u8"
      },
      "source": [
        "b = concat_data[(concat_data['race/ethnicity']=='group_a') & (concat_data['test preparation course']!='completed')]"
      ],
      "execution_count": null,
      "outputs": []
    },
    {
      "cell_type": "code",
      "metadata": {
        "colab": {
          "base_uri": "https://localhost:8080/"
        },
        "id": "XTMHpAOvm9G-",
        "outputId": "3869e9c7-26cb-421c-ebe8-0767fc5cd760"
      },
      "source": [
        "a.count()"
      ],
      "execution_count": null,
      "outputs": [
        {
          "output_type": "execute_result",
          "data": {
            "text/plain": [
              "gender                         0\n",
              "race/ethnicity                 0\n",
              "parental level of education    0\n",
              "lunch                          0\n",
              "test preparation course        0\n",
              "math score                     0\n",
              "reading score                  0\n",
              "writing score                  0\n",
              "dtype: int64"
            ]
          },
          "metadata": {
            "tags": []
          },
          "execution_count": 202
        }
      ]
    },
    {
      "cell_type": "code",
      "metadata": {
        "colab": {
          "base_uri": "https://localhost:8080/"
        },
        "id": "D5Ik0d4XnAHj",
        "outputId": "eb98c363-f131-4145-da17-497de64d6dee"
      },
      "source": [
        "b.count()"
      ],
      "execution_count": null,
      "outputs": [
        {
          "output_type": "execute_result",
          "data": {
            "text/plain": [
              "gender                         0\n",
              "race/ethnicity                 0\n",
              "parental level of education    0\n",
              "lunch                          0\n",
              "test preparation course        0\n",
              "math score                     0\n",
              "reading score                  0\n",
              "writing score                  0\n",
              "dtype: int64"
            ]
          },
          "metadata": {
            "tags": []
          },
          "execution_count": 203
        }
      ]
    },
    {
      "cell_type": "code",
      "metadata": {
        "colab": {
          "base_uri": "https://localhost:8080/"
        },
        "id": "2R5HF8ounD2S",
        "outputId": "22aa0340-e876-40f8-e95b-aa042eb7316a"
      },
      "source": [
        "concat_data.groupby('race/ethnicity')['test preparation course'].count()"
      ],
      "execution_count": null,
      "outputs": [
        {
          "output_type": "execute_result",
          "data": {
            "text/plain": [
              "race/ethnicity\n",
              "group A     84\n",
              "group B     79\n",
              "group C    101\n",
              "group D     90\n",
              "group E     55\n",
              "Name: test preparation course, dtype: int64"
            ]
          },
          "metadata": {
            "tags": []
          },
          "execution_count": 205
        }
      ]
    },
    {
      "cell_type": "code",
      "metadata": {
        "id": "VNy3R2XWnKKm"
      },
      "source": [
        "c = concat_data[concat_data.duplicated()]"
      ],
      "execution_count": null,
      "outputs": []
    },
    {
      "cell_type": "code",
      "metadata": {
        "colab": {
          "base_uri": "https://localhost:8080/",
          "height": 700
        },
        "id": "qnJb4tNCo8kL",
        "outputId": "f6583b4c-e23d-4648-e497-2dd3987be3f9"
      },
      "source": [
        "c"
      ],
      "execution_count": null,
      "outputs": [
        {
          "output_type": "execute_result",
          "data": {
            "text/html": [
              "<div>\n",
              "<style scoped>\n",
              "    .dataframe tbody tr th:only-of-type {\n",
              "        vertical-align: middle;\n",
              "    }\n",
              "\n",
              "    .dataframe tbody tr th {\n",
              "        vertical-align: top;\n",
              "    }\n",
              "\n",
              "    .dataframe thead th {\n",
              "        text-align: right;\n",
              "    }\n",
              "</style>\n",
              "<table border=\"1\" class=\"dataframe\">\n",
              "  <thead>\n",
              "    <tr style=\"text-align: right;\">\n",
              "      <th></th>\n",
              "      <th>gender</th>\n",
              "      <th>race/ethnicity</th>\n",
              "      <th>parental level of education</th>\n",
              "      <th>lunch</th>\n",
              "      <th>test preparation course</th>\n",
              "      <th>math score</th>\n",
              "      <th>reading score</th>\n",
              "      <th>writing score</th>\n",
              "    </tr>\n",
              "  </thead>\n",
              "  <tbody>\n",
              "    <tr>\n",
              "      <th>128</th>\n",
              "      <td>male</td>\n",
              "      <td>group A</td>\n",
              "      <td>associate's degree</td>\n",
              "      <td>standard</td>\n",
              "      <td>completed</td>\n",
              "      <td>100</td>\n",
              "      <td>97</td>\n",
              "      <td>94</td>\n",
              "    </tr>\n",
              "    <tr>\n",
              "      <th>157</th>\n",
              "      <td>male</td>\n",
              "      <td>group A</td>\n",
              "      <td>associate's degree</td>\n",
              "      <td>free/reduced</td>\n",
              "      <td>completed</td>\n",
              "      <td>77</td>\n",
              "      <td>84</td>\n",
              "      <td>80</td>\n",
              "    </tr>\n",
              "    <tr>\n",
              "      <th>245</th>\n",
              "      <td>female</td>\n",
              "      <td>group A</td>\n",
              "      <td>associate's degree</td>\n",
              "      <td>free/reduced</td>\n",
              "      <td>completed</td>\n",
              "      <td>61</td>\n",
              "      <td>73</td>\n",
              "      <td>68</td>\n",
              "    </tr>\n",
              "    <tr>\n",
              "      <th>261</th>\n",
              "      <td>male</td>\n",
              "      <td>group A</td>\n",
              "      <td>some high school</td>\n",
              "      <td>free/reduced</td>\n",
              "      <td>completed</td>\n",
              "      <td>38</td>\n",
              "      <td>35</td>\n",
              "      <td>35</td>\n",
              "    </tr>\n",
              "    <tr>\n",
              "      <th>264</th>\n",
              "      <td>female</td>\n",
              "      <td>group A</td>\n",
              "      <td>associate's degree</td>\n",
              "      <td>standard</td>\n",
              "      <td>completed</td>\n",
              "      <td>43</td>\n",
              "      <td>56</td>\n",
              "      <td>57</td>\n",
              "    </tr>\n",
              "    <tr>\n",
              "      <th>313</th>\n",
              "      <td>male</td>\n",
              "      <td>group A</td>\n",
              "      <td>bachelor's degree</td>\n",
              "      <td>standard</td>\n",
              "      <td>completed</td>\n",
              "      <td>58</td>\n",
              "      <td>68</td>\n",
              "      <td>70</td>\n",
              "    </tr>\n",
              "    <tr>\n",
              "      <th>386</th>\n",
              "      <td>male</td>\n",
              "      <td>group A</td>\n",
              "      <td>some high school</td>\n",
              "      <td>standard</td>\n",
              "      <td>completed</td>\n",
              "      <td>88</td>\n",
              "      <td>94</td>\n",
              "      <td>92</td>\n",
              "    </tr>\n",
              "    <tr>\n",
              "      <th>411</th>\n",
              "      <td>male</td>\n",
              "      <td>group A</td>\n",
              "      <td>high school</td>\n",
              "      <td>standard</td>\n",
              "      <td>completed</td>\n",
              "      <td>60</td>\n",
              "      <td>56</td>\n",
              "      <td>55</td>\n",
              "    </tr>\n",
              "    <tr>\n",
              "      <th>479</th>\n",
              "      <td>female</td>\n",
              "      <td>group A</td>\n",
              "      <td>high school</td>\n",
              "      <td>standard</td>\n",
              "      <td>completed</td>\n",
              "      <td>83</td>\n",
              "      <td>98</td>\n",
              "      <td>100</td>\n",
              "    </tr>\n",
              "    <tr>\n",
              "      <th>484</th>\n",
              "      <td>female</td>\n",
              "      <td>group A</td>\n",
              "      <td>some college</td>\n",
              "      <td>free/reduced</td>\n",
              "      <td>completed</td>\n",
              "      <td>55</td>\n",
              "      <td>58</td>\n",
              "      <td>67</td>\n",
              "    </tr>\n",
              "    <tr>\n",
              "      <th>515</th>\n",
              "      <td>male</td>\n",
              "      <td>group A</td>\n",
              "      <td>associate's degree</td>\n",
              "      <td>standard</td>\n",
              "      <td>completed</td>\n",
              "      <td>59</td>\n",
              "      <td>60</td>\n",
              "      <td>58</td>\n",
              "    </tr>\n",
              "    <tr>\n",
              "      <th>547</th>\n",
              "      <td>female</td>\n",
              "      <td>group A</td>\n",
              "      <td>some high school</td>\n",
              "      <td>free/reduced</td>\n",
              "      <td>completed</td>\n",
              "      <td>79</td>\n",
              "      <td>82</td>\n",
              "      <td>85</td>\n",
              "    </tr>\n",
              "    <tr>\n",
              "      <th>595</th>\n",
              "      <td>male</td>\n",
              "      <td>group A</td>\n",
              "      <td>some high school</td>\n",
              "      <td>standard</td>\n",
              "      <td>completed</td>\n",
              "      <td>71</td>\n",
              "      <td>79</td>\n",
              "      <td>78</td>\n",
              "    </tr>\n",
              "    <tr>\n",
              "      <th>613</th>\n",
              "      <td>female</td>\n",
              "      <td>group A</td>\n",
              "      <td>master's degree</td>\n",
              "      <td>free/reduced</td>\n",
              "      <td>completed</td>\n",
              "      <td>88</td>\n",
              "      <td>99</td>\n",
              "      <td>98</td>\n",
              "    </tr>\n",
              "    <tr>\n",
              "      <th>656</th>\n",
              "      <td>female</td>\n",
              "      <td>group A</td>\n",
              "      <td>some college</td>\n",
              "      <td>standard</td>\n",
              "      <td>completed</td>\n",
              "      <td>66</td>\n",
              "      <td>74</td>\n",
              "      <td>78</td>\n",
              "    </tr>\n",
              "    <tr>\n",
              "      <th>771</th>\n",
              "      <td>male</td>\n",
              "      <td>group A</td>\n",
              "      <td>bachelor's degree</td>\n",
              "      <td>free/reduced</td>\n",
              "      <td>completed</td>\n",
              "      <td>76</td>\n",
              "      <td>74</td>\n",
              "      <td>72</td>\n",
              "    </tr>\n",
              "    <tr>\n",
              "      <th>783</th>\n",
              "      <td>female</td>\n",
              "      <td>group A</td>\n",
              "      <td>some high school</td>\n",
              "      <td>free/reduced</td>\n",
              "      <td>completed</td>\n",
              "      <td>60</td>\n",
              "      <td>69</td>\n",
              "      <td>77</td>\n",
              "    </tr>\n",
              "    <tr>\n",
              "      <th>877</th>\n",
              "      <td>female</td>\n",
              "      <td>group A</td>\n",
              "      <td>some high school</td>\n",
              "      <td>standard</td>\n",
              "      <td>completed</td>\n",
              "      <td>53</td>\n",
              "      <td>61</td>\n",
              "      <td>63</td>\n",
              "    </tr>\n",
              "    <tr>\n",
              "      <th>880</th>\n",
              "      <td>female</td>\n",
              "      <td>group A</td>\n",
              "      <td>some college</td>\n",
              "      <td>free/reduced</td>\n",
              "      <td>completed</td>\n",
              "      <td>43</td>\n",
              "      <td>67</td>\n",
              "      <td>62</td>\n",
              "    </tr>\n",
              "    <tr>\n",
              "      <th>899</th>\n",
              "      <td>female</td>\n",
              "      <td>group A</td>\n",
              "      <td>some college</td>\n",
              "      <td>free/reduced</td>\n",
              "      <td>completed</td>\n",
              "      <td>76</td>\n",
              "      <td>79</td>\n",
              "      <td>85</td>\n",
              "    </tr>\n",
              "    <tr>\n",
              "      <th>946</th>\n",
              "      <td>female</td>\n",
              "      <td>group A</td>\n",
              "      <td>master's degree</td>\n",
              "      <td>free/reduced</td>\n",
              "      <td>completed</td>\n",
              "      <td>44</td>\n",
              "      <td>53</td>\n",
              "      <td>55</td>\n",
              "    </tr>\n",
              "  </tbody>\n",
              "</table>\n",
              "</div>"
            ],
            "text/plain": [
              "     gender race/ethnicity  ... reading score writing score\n",
              "128    male        group A  ...            97            94\n",
              "157    male        group A  ...            84            80\n",
              "245  female        group A  ...            73            68\n",
              "261    male        group A  ...            35            35\n",
              "264  female        group A  ...            56            57\n",
              "313    male        group A  ...            68            70\n",
              "386    male        group A  ...            94            92\n",
              "411    male        group A  ...            56            55\n",
              "479  female        group A  ...            98           100\n",
              "484  female        group A  ...            58            67\n",
              "515    male        group A  ...            60            58\n",
              "547  female        group A  ...            82            85\n",
              "595    male        group A  ...            79            78\n",
              "613  female        group A  ...            99            98\n",
              "656  female        group A  ...            74            78\n",
              "771    male        group A  ...            74            72\n",
              "783  female        group A  ...            69            77\n",
              "877  female        group A  ...            61            63\n",
              "880  female        group A  ...            67            62\n",
              "899  female        group A  ...            79            85\n",
              "946  female        group A  ...            53            55\n",
              "\n",
              "[21 rows x 8 columns]"
            ]
          },
          "metadata": {
            "tags": []
          },
          "execution_count": 207
        }
      ]
    },
    {
      "cell_type": "code",
      "metadata": {
        "colab": {
          "base_uri": "https://localhost:8080/"
        },
        "id": "7-WcdS9Wo9N3",
        "outputId": "cfc905dd-7f55-4773-c145-a98837eae556"
      },
      "source": [
        "c.count()"
      ],
      "execution_count": null,
      "outputs": [
        {
          "output_type": "execute_result",
          "data": {
            "text/plain": [
              "gender                         21\n",
              "race/ethnicity                 21\n",
              "parental level of education    21\n",
              "lunch                          21\n",
              "test preparation course        21\n",
              "math score                     21\n",
              "reading score                  21\n",
              "writing score                  21\n",
              "dtype: int64"
            ]
          },
          "metadata": {
            "tags": []
          },
          "execution_count": 208
        }
      ]
    },
    {
      "cell_type": "code",
      "metadata": {
        "id": "eO-684-6o_8c"
      },
      "source": [
        "d = c[c['race/ethnicity'] != 'group A']"
      ],
      "execution_count": null,
      "outputs": []
    },
    {
      "cell_type": "code",
      "metadata": {
        "id": "f25CtZfUpPrV",
        "colab": {
          "base_uri": "https://localhost:8080/",
          "height": 49
        },
        "outputId": "3ee094b1-8f29-4d30-d842-28f602a0782b"
      },
      "source": [
        "d"
      ],
      "execution_count": null,
      "outputs": [
        {
          "output_type": "execute_result",
          "data": {
            "text/html": [
              "<div>\n",
              "<style scoped>\n",
              "    .dataframe tbody tr th:only-of-type {\n",
              "        vertical-align: middle;\n",
              "    }\n",
              "\n",
              "    .dataframe tbody tr th {\n",
              "        vertical-align: top;\n",
              "    }\n",
              "\n",
              "    .dataframe thead th {\n",
              "        text-align: right;\n",
              "    }\n",
              "</style>\n",
              "<table border=\"1\" class=\"dataframe\">\n",
              "  <thead>\n",
              "    <tr style=\"text-align: right;\">\n",
              "      <th></th>\n",
              "      <th>gender</th>\n",
              "      <th>race/ethnicity</th>\n",
              "      <th>parental level of education</th>\n",
              "      <th>lunch</th>\n",
              "      <th>test preparation course</th>\n",
              "      <th>math score</th>\n",
              "      <th>reading score</th>\n",
              "      <th>writing score</th>\n",
              "    </tr>\n",
              "  </thead>\n",
              "  <tbody>\n",
              "  </tbody>\n",
              "</table>\n",
              "</div>"
            ],
            "text/plain": [
              "Empty DataFrame\n",
              "Columns: [gender, race/ethnicity, parental level of education, lunch, test preparation course, math score, reading score, writing score]\n",
              "Index: []"
            ]
          },
          "metadata": {
            "tags": []
          },
          "execution_count": 212
        }
      ]
    },
    {
      "cell_type": "code",
      "metadata": {
        "id": "_fQS9W4kpU9z"
      },
      "source": [
        ""
      ],
      "execution_count": null,
      "outputs": []
    }
  ]
}